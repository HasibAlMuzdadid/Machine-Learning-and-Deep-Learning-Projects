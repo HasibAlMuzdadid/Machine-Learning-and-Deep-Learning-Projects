{
  "nbformat": 4,
  "nbformat_minor": 0,
  "metadata": {
    "colab": {
      "name": "blobs classification using one hidden layer.ipynb",
      "provenance": [],
      "collapsed_sections": [],
      "authorship_tag": "ABX9TyPOWueiEcNVqxiPQc9TsV7h",
      "include_colab_link": true
    },
    "kernelspec": {
      "name": "python3",
      "display_name": "Python 3"
    },
    "language_info": {
      "name": "python"
    }
  },
  "cells": [
    {
      "cell_type": "markdown",
      "metadata": {
        "id": "view-in-github",
        "colab_type": "text"
      },
      "source": [
        "<a href=\"https://colab.research.google.com/github/HasibAlMuzdadid/Machine-Learning-and-Deep-Learning-Projects/blob/main/blobs%20classification%20%5Bsingle%20hidden%20layer%20logistic%20regression%5D/blobs_classification_using_single_hidden_layer.ipynb\" target=\"_parent\"><img src=\"https://colab.research.google.com/assets/colab-badge.svg\" alt=\"Open In Colab\"/></a>"
      ]
    },
    {
      "cell_type": "markdown",
      "source": [
        "**Blobs Classification Using One Hidden Layer**"
      ],
      "metadata": {
        "id": "dUrtWI_NSqav"
      }
    },
    {
      "cell_type": "code",
      "execution_count": null,
      "metadata": {
        "id": "zjAHy4n8QLoK"
      },
      "outputs": [],
      "source": [
        "import numpy as np\n",
        "import matplotlib.pyplot as plt\n",
        "import copy\n",
        "import sklearn\n",
        "import sklearn.linear_model\n",
        "import sklearn.datasets"
      ]
    },
    {
      "cell_type": "code",
      "source": [
        "def load_dataset():  \n",
        "    N = 200\n",
        "    blobs = sklearn.datasets.make_blobs(n_samples=N, random_state=5, n_features=2, centers=6)\n",
        "    \n",
        "    return blobs"
      ],
      "metadata": {
        "id": "DgX1lKohQPzZ"
      },
      "execution_count": null,
      "outputs": []
    },
    {
      "cell_type": "code",
      "source": [
        "def plot_decision_boundary(model, X, y):\n",
        "    # Set min and max values and give it some padding\n",
        "    x_min, x_max = X[0, :].min() - 1, X[0, :].max() + 1\n",
        "    y_min, y_max = X[1, :].min() - 1, X[1, :].max() + 1\n",
        "    h = 0.01\n",
        "\n",
        "    # Generate a grid of points with distance h between them\n",
        "    xx, yy = np.meshgrid(np.arange(x_min, x_max, h), np.arange(y_min, y_max, h))\n",
        "\n",
        "    # Predict the function value for the whole grid\n",
        "    Z = model(np.c_[xx.ravel(), yy.ravel()])\n",
        "    Z = Z.reshape(xx.shape)\n",
        "    \n",
        "    # Plot the contour and training examples\n",
        "    plt.contourf(xx, yy, Z, cmap=plt.cm.Spectral)\n",
        "    plt.ylabel('x2')\n",
        "    plt.xlabel('x1')\n",
        "    plt.scatter(X[0, :], X[1, :], c=y, cmap=plt.cm.Spectral)"
      ],
      "metadata": {
        "id": "hP8WoadBQd_J"
      },
      "execution_count": null,
      "outputs": []
    },
    {
      "cell_type": "code",
      "source": [
        "def sigmoid(x):\n",
        "    \n",
        "    s = 1/(1+np.exp(-x))\n",
        "    return s"
      ],
      "metadata": {
        "id": "MN1v74BVQgb5"
      },
      "execution_count": null,
      "outputs": []
    },
    {
      "cell_type": "code",
      "source": [
        "# Load Dataset\n",
        "X, Y = load_dataset()\n",
        "\n",
        "# Reshape data\n",
        "X = X.T\n",
        "Y = Y.reshape(1,Y.shape[0])\n",
        "\n",
        "Y = Y%2    #making blobs binary"
      ],
      "metadata": {
        "id": "XJKdcnmZQjEn"
      },
      "execution_count": null,
      "outputs": []
    },
    {
      "cell_type": "code",
      "source": [
        "shape_X = X.shape\n",
        "shape_Y = Y.shape\n",
        "m = X.shape[1]\n",
        "\n",
        "print(f\"The shape of X is {shape_X}\")\n",
        "print(f\"The shape of Y is {shape_Y}\")\n",
        "print(f\"Quantity of training examples are: {m}\")"
      ],
      "metadata": {
        "colab": {
          "base_uri": "https://localhost:8080/"
        },
        "id": "LgBJ6ApfQ7sy",
        "outputId": "10badf75-427f-4667-edf2-5fa7cdda1af1"
      },
      "execution_count": null,
      "outputs": [
        {
          "output_type": "stream",
          "name": "stdout",
          "text": [
            "The shape of X is (2, 200)\n",
            "The shape of Y is (1, 200)\n",
            "Quantity of training examples are: 200\n"
          ]
        }
      ]
    },
    {
      "cell_type": "code",
      "source": [
        "# Visualize the data\n",
        "plt.scatter(X[0, :], X[1, :], c=Y, s=40, cmap=plt.cm.Spectral);\n",
        "# The data looks like scattered with some red (label y=0) and some blue (label y=1) points"
      ],
      "metadata": {
        "colab": {
          "base_uri": "https://localhost:8080/",
          "height": 265
        },
        "id": "82OVbBJIRAA3",
        "outputId": "520552c8-345c-4e73-fe44-216d83091f8b"
      },
      "execution_count": null,
      "outputs": [
        {
          "output_type": "display_data",
          "data": {
            "image/png": "[encoded data removed]",
            "text/plain": [
              "<Figure size 432x288 with 1 Axes>"
            ]
          },
          "metadata": {
            "needs_background": "light"
          }
        }
      ]
    },
    {
      "cell_type": "markdown",
      "source": [
        "**Initializing Parameters**"
      ],
      "metadata": {
        "id": "17xKN1F6R_y0"
      }
    },
    {
      "cell_type": "code",
      "source": [
        "# Initializing layer sizes\n",
        "def layer_sizes(X, Y, n_h):  \n",
        "  n_x = X.shape[0]\n",
        "  n_h = n_h                          # hidden layer size \n",
        "  n_y = Y.shape[0]\n",
        "     \n",
        "  return (n_x, n_h, n_y)"
      ],
      "metadata": {
        "id": "nT1t_4sZR81j"
      },
      "execution_count": null,
      "outputs": []
    },
    {
      "cell_type": "code",
      "source": [
        "# Initializing parameters\n",
        "\n",
        "def initialize_parameters(n_x, n_h, n_y):\n",
        "  W1 = np.random.randn(n_h,n_x)*0.01\n",
        "  b1 = np.zeros((n_h,1))\n",
        "  W2 = np.random.randn(n_y,n_h)*0.01\n",
        "  b2 = np.zeros((n_y,1))\n",
        "\n",
        "  parameters = {\"W1\": W1,\n",
        "                \"b1\": b1,\n",
        "                \"W2\": W2,\n",
        "                \"b2\": b2}\n",
        "    \n",
        "  return parameters"
      ],
      "metadata": {
        "id": "DaBiVY5ESFIP"
      },
      "execution_count": null,
      "outputs": []
    },
    {
      "cell_type": "markdown",
      "source": [
        "**Forward Propagation**"
      ],
      "metadata": {
        "id": "k3LxLk-aSHk6"
      }
    },
    {
      "cell_type": "code",
      "source": [
        "# Forward Propagation\n",
        "\n",
        "def forward_propagation(X, parameters):\n",
        "  # Retrieve each parameter from the dictionary \"parameters\"\n",
        "  W1 = parameters[\"W1\"]\n",
        "  b1 = parameters[\"b1\"]\n",
        "  W2 = parameters[\"W2\"]\n",
        "  b2 = parameters[\"b2\"]\n",
        "\n",
        "  # Implement Forward Propagation to calculate A2 (probabilities)\n",
        "  Z1 = np.dot(W1,X)+b1\n",
        "  A1 = np.tanh(Z1)\n",
        "  Z2 = np.dot(W2,A1)+b2\n",
        "  A2 = sigmoid(Z2)\n",
        "\n",
        "  cache = {\"Z1\": Z1,\n",
        "          \"A1\": A1,\n",
        "          \"Z2\": Z2,\n",
        "          \"A2\": A2}\n",
        "    \n",
        "  return A2, cache"
      ],
      "metadata": {
        "id": "onJbsckwSIxY"
      },
      "execution_count": null,
      "outputs": []
    },
    {
      "cell_type": "code",
      "source": [
        "# Computing Cost\n",
        "\n",
        "def compute_cost(A2, Y):\n",
        "  m = Y.shape[1]           # number of examples\n",
        "  logprobs = np.multiply(Y,np.log(A2))+np.multiply((1-Y),np.log(1-A2))\n",
        "  cost = -(1/m)*np.sum(logprobs)\n",
        "\n",
        "  cost = float(np.squeeze(cost))    # making sure that cost is the dimension we expect. \n",
        "                                    # E.g., turns [[17]] into 17 \n",
        "    \n",
        "  return cost"
      ],
      "metadata": {
        "id": "WItvXSX6SMmk"
      },
      "execution_count": null,
      "outputs": []
    },
    {
      "cell_type": "markdown",
      "source": [
        "**Backward Propagation**"
      ],
      "metadata": {
        "id": "deO6xeBISPWx"
      }
    },
    {
      "cell_type": "code",
      "source": [
        "# Backward Propagation\n",
        "\n",
        "def backward_propagation(parameters, cache, X, Y):\n",
        "  m = X.shape[1]\n",
        "\n",
        "  W1 = parameters[\"W1\"]     # retrieving W1 and W2 from the dictionary \"parameters\"\n",
        "  W2 = parameters[\"W2\"]\n",
        "\n",
        "  A1 = cache[\"A1\"]          # retrieving A1 and A2 from dictionary \"cache\"\n",
        "  A2 = cache[\"A2\"]\n",
        "\n",
        "  # Backward propagation: calculate dW1, db1, dW2, db2\n",
        "  dZ2 = A2-Y\n",
        "  dW2 = (1/m)*np.dot(dZ2,A1.T)\n",
        "  db2 = (1/m)*np.sum(dZ2,keepdims=True,axis=1)\n",
        "  dZ1 = np.dot(W2.T,dZ2)*(1-np.power(A1,2))\n",
        "  dW1 = (1/m)*np.dot(dZ1,X.T)\n",
        "  db1 = (1/m)*np.sum(dZ1,axis=1,keepdims=True) \n",
        "\n",
        "  grads = {\"dW1\": dW1,\n",
        "           \"db1\": db1,\n",
        "           \"dW2\": dW2,\n",
        "           \"db2\": db2}\n",
        "    \n",
        "  return grads "
      ],
      "metadata": {
        "id": "dlCi77T5SQyc"
      },
      "execution_count": null,
      "outputs": []
    },
    {
      "cell_type": "code",
      "source": [
        "# Update Parameters\n",
        "\n",
        "def update_parameters(parameters, grads, learning_rate):\n",
        "  \n",
        "  W1 = copy.deepcopy(parameters[\"W1\"])           # retrieving a copy of each parameter from the dictionary \"parameters\" by using copy.deepcopy() for W1 and W2\n",
        "  b1 = parameters[\"b1\"]\n",
        "  W2 = copy.deepcopy(parameters[\"W2\"])\n",
        "  b2 = parameters[\"b2\"]\n",
        "\n",
        "  dW1 = grads[\"dW1\"]                # retrieving each gradient from the dictionary \"grads\"\n",
        "  db1 = grads[\"db1\"]\n",
        "  dW2 = grads[\"dW2\"]\n",
        "  db2 = grads[\"db2\"]\n",
        "\n",
        "  W1 = W1-learning_rate*dW1           # Update rule for each parameter\n",
        "  b1 = b1-learning_rate*db1\n",
        "  W2 = W2-learning_rate*dW2\n",
        "  b2 = b2-learning_rate*db2\n",
        "\n",
        "  parameters = {\"W1\": W1,\n",
        "                \"b1\": b1,\n",
        "                \"W2\": W2,\n",
        "                \"b2\": b2}\n",
        "    \n",
        "  return parameters"
      ],
      "metadata": {
        "id": "N_zig3ILSUrs"
      },
      "execution_count": null,
      "outputs": []
    },
    {
      "cell_type": "code",
      "source": [
        "# Final Neural Network Model\n",
        "\n",
        "def nn_model(X, Y, n_h, num_iterations, print_cost):\n",
        "  \n",
        "  n_x = layer_sizes(X, Y, n_h)[0]\n",
        "  # n_h = layer_sizes(X, Y, n_h)[1]\n",
        "  n_y = layer_sizes(X, Y, n_h)[2]\n",
        "  \n",
        "  parameters = initialize_parameters(n_x, n_h, n_y)    # Initializing parameters\n",
        "\n",
        "  for i in range(0, num_iterations):\n",
        "    \n",
        "    A2, cache = forward_propagation(X, parameters)\n",
        "    cost = compute_cost(A2, Y)\n",
        "    grads = backward_propagation(parameters, cache, X, Y)\n",
        "    parameters = update_parameters(parameters, grads, learning_rate=1.2)\n",
        "\n",
        "    # Print the cost every 1000 iterations\n",
        "    if (print_cost == True) and (i % 1000 == 0):      \n",
        "      print (f\"Cost after iteration {i} : {cost}\")\n",
        "\n",
        "  return parameters"
      ],
      "metadata": {
        "id": "CXxSBgDjSXE8"
      },
      "execution_count": null,
      "outputs": []
    },
    {
      "cell_type": "code",
      "source": [
        "# Predict\n",
        "\n",
        "def predict(parameters, X):\n",
        "\n",
        "  A2, cache=forward_propagation(X, parameters)                   # Computing probabilities using forward propagation and classifying to 0/1 using 0.5 as the threshold\n",
        "  predictions = A2>0.5\n",
        "\n",
        "  return predictions"
      ],
      "metadata": {
        "id": "J-am84FzSZtQ"
      },
      "execution_count": null,
      "outputs": []
    },
    {
      "cell_type": "code",
      "source": [
        "## Testing\n",
        "\n",
        "# Building a model with a n_h-dimensional hidden layer\n",
        "parameters = nn_model(X, Y, n_h = 4, num_iterations = 10001, print_cost=True)\n",
        "\n",
        "# Ploting the decision boundary\n",
        "plot_decision_boundary(lambda x: predict(parameters, x.T), X, Y)\n",
        "plt.title(f\"Decision Boundary for hidden layer size 4\")\n"
      ],
      "metadata": {
        "colab": {
          "base_uri": "https://localhost:8080/",
          "height": 513
        },
        "id": "fVTvxvpeSdBf",
        "outputId": "2b7cef55-a9a8-4bff-aa87-399414d9a8fb"
      },
      "execution_count": null,
      "outputs": [
        {
          "output_type": "stream",
          "name": "stdout",
          "text": [
            "Cost after iteration 0 : 0.6931178770261565\n",
            "Cost after iteration 1000 : 0.32306699255666155\n",
            "Cost after iteration 2000 : 0.32347218136742806\n",
            "Cost after iteration 3000 : 0.3230588648169003\n",
            "Cost after iteration 4000 : 0.32291161855266737\n",
            "Cost after iteration 5000 : 0.3228355772285883\n",
            "Cost after iteration 6000 : 0.32278889694010604\n",
            "Cost after iteration 7000 : 0.3227571904761372\n",
            "Cost after iteration 8000 : 0.32273417506552093\n",
            "Cost after iteration 9000 : 0.32271666536246485\n",
            "Cost after iteration 10000 : 0.32270287108343637\n"
          ]
        },
        {
          "output_type": "execute_result",
          "data": {
            "text/plain": [
              "Text(0.5, 1.0, 'Decision Boundary for hidden layer size 4')"
            ]
          },
          "metadata": {},
          "execution_count": 17
        },
        {
          "output_type": "display_data",
          "data": {
            "image/png": "[encoded data removed]",
            "text/plain": [
              "<Figure size 432x288 with 1 Axes>"
            ]
          },
          "metadata": {
            "needs_background": "light"
          }
        }
      ]
    },
    {
      "cell_type": "code",
      "source": [
        "# Accuracy\n",
        "predictions = predict(parameters, X)\n",
        "print (f\"Accuracy: {float((np.dot(Y, predictions.T) + np.dot(1 - Y, 1 - predictions.T)) / float(Y.size) * 100)} %\")"
      ],
      "metadata": {
        "colab": {
          "base_uri": "https://localhost:8080/"
        },
        "id": "1E5aR0fXSgFP",
        "outputId": "89031579-37c6-4fd3-c1c5-4ae1df7ae9e6"
      },
      "execution_count": null,
      "outputs": [
        {
          "output_type": "stream",
          "name": "stdout",
          "text": [
            "Accuracy: 83.0 %\n"
          ]
        }
      ]
    }
  ]
}