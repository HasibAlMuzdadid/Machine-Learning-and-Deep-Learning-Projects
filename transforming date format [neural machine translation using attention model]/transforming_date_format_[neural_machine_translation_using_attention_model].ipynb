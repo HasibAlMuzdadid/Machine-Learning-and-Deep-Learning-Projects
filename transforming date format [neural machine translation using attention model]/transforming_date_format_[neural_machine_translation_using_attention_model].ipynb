{
  "nbformat": 4,
  "nbformat_minor": 0,
  "metadata": {
    "colab": {
      "provenance": [],
      "collapsed_sections": [],
      "authorship_tag": "ABX9TyO7CRcHIVy8mAGlDVRuFeF/",
      "include_colab_link": true
    },
    "kernelspec": {
      "name": "python3",
      "display_name": "Python 3"
    },
    "language_info": {
      "name": "python"
    }
  },
  "cells": [
    {
      "cell_type": "markdown",
      "metadata": {
        "id": "view-in-github",
        "colab_type": "text"
      },
      "source": [
        "<a href=\"https://colab.research.google.com/github/HasibAlMuzdadid/Machine-Learning-and-Deep-Learning-Projects/blob/main/transforming%20date%20format%20%5Bneural%20machine%20translation%20using%20attention%20model%5D/transforming_date_format_%5Bneural_machine_translation_using_attention_model%5D.ipynb\" target=\"_parent\"><img src=\"https://colab.research.google.com/assets/colab-badge.svg\" alt=\"Open In Colab\"/></a>"
      ]
    },
    {
      "cell_type": "markdown",
      "source": [
        "**Transforming Date Format [Neural Machine Translation using Attention Model]**\n",
        "\n",
        "\n",
        "\n",
        "We will build a Neural Machine Translation (NMT) model to translate human-readable dates (\"25th of June, 2009\") into machine-readable dates (\"2009-06-25\"). We will do this using an attention model which is one of the most sophisticated sequence-to-sequence models. \n",
        "\n",
        "\n",
        "\n",
        "* The model we will build here can be used to translate from one language to another. However, language translation requires massive datasets and usually takes days of training on GPUs. \n",
        "* To give a place to experiment with these models without using massive datasets, we will perform a simpler \"date translation\" task. \n",
        "* The network will input a date written in a variety of possible formats (*e.g. \"the 29th of August 1958\", \"03/30/1968\", \"24 JUNE 1987\"*). The network will translate them into standardized machine readable dates (*e.g. \"1958-08-29\", \"1968-03-30\", \"1987-06-24\"*). We will have the network learn to output dates in the common machine-readable format YYYY-MM-DD. \n"
      ],
      "metadata": {
        "id": "kOGZDEPQFz7a"
      }
    },
    {
      "cell_type": "code",
      "source": [
        "pip install Faker"
      ],
      "metadata": {
        "colab": {
          "base_uri": "https://localhost:8080/"
        },
        "id": "2rQtZ6lnGu-6",
        "outputId": "8f7c57fe-14d3-42ba-93a3-ae8b970585c4"
      },
      "execution_count": null,
      "outputs": [
        {
          "output_type": "stream",
          "name": "stdout",
          "text": [
            "Looking in indexes: https://pypi.org/simple, https://us-python.pkg.dev/colab-wheels/public/simple/\n",
            "Collecting Faker\n",
            "  Downloading Faker-13.13.0-py3-none-any.whl (1.6 MB)\n",
            "\u001b[K     |████████████████████████████████| 1.6 MB 5.5 MB/s \n",
            "\u001b[?25hRequirement already satisfied: python-dateutil>=2.4 in /usr/local/lib/python3.7/dist-packages (from Faker) (2.8.2)\n",
            "Requirement already satisfied: typing-extensions>=3.10.0.2 in /usr/local/lib/python3.7/dist-packages (from Faker) (4.2.0)\n",
            "Requirement already satisfied: six>=1.5 in /usr/local/lib/python3.7/dist-packages (from python-dateutil>=2.4->Faker) (1.15.0)\n",
            "Installing collected packages: Faker\n",
            "Successfully installed Faker-13.13.0\n"
          ]
        }
      ]
    },
    {
      "cell_type": "code",
      "execution_count": null,
      "metadata": {
        "id": "in5lTUIp3zL8"
      },
      "outputs": [],
      "source": [
        "from tensorflow.keras.layers import Bidirectional, Concatenate, Permute, Dot, Input, LSTM, Multiply\n",
        "from tensorflow.keras.layers import RepeatVector, Dense, Activation, Lambda\n",
        "from tensorflow.keras.optimizers import Adam\n",
        "from tensorflow.keras.utils import to_categorical\n",
        "from tensorflow.keras.models import load_model, Model\n",
        "import tensorflow.keras.backend as K\n",
        "\n",
        "import numpy as np\n",
        "import tensorflow as tf\n",
        "import random\n",
        "from faker import Faker\n",
        "from tqdm import tqdm\n",
        "from babel.dates import format_date\n",
        "import matplotlib.pyplot as plt"
      ]
    },
    {
      "cell_type": "code",
      "source": [
        "# helper function\n",
        "\n",
        "def load_date():\n",
        "# Loads some fake dates and returns: tuple containing human readable string, machine readable string and date object\n",
        "    fake = Faker()\n",
        "    \n",
        "    LOCALES = ['en_US']  # change this for working with another language\n",
        "\n",
        "    # Define format of the data we would like to generate\n",
        "    FORMATS = ['short',\n",
        "               'medium',\n",
        "               'long',\n",
        "               'full',\n",
        "               'full',\n",
        "               'full',\n",
        "               'full',\n",
        "               'full',\n",
        "               'full',\n",
        "               'full',\n",
        "               'full',\n",
        "               'full',\n",
        "               'full',\n",
        "               'd MMM YYY', \n",
        "               'd MMMM YYY',\n",
        "               'dd MMM YYY',\n",
        "               'd MMM, YYY',\n",
        "               'd MMMM, YYY',\n",
        "               'dd, MMM YYY',\n",
        "               'd MM YY',\n",
        "               'd MMMM YYY',\n",
        "               'MMMM d YYY',\n",
        "               'MMMM d, YYY',\n",
        "               'dd.MM.YY']\n",
        "\n",
        "   \n",
        "    dt = fake.date_object()\n",
        "\n",
        "    try:\n",
        "        human_readable = format_date(dt, format=random.choice(FORMATS),  locale='en_US')  # locale=random.choice(LOCALES))\n",
        "        human_readable = human_readable.lower()\n",
        "        human_readable = human_readable.replace(',','')\n",
        "        machine_readable = dt.isoformat()       \n",
        "    except AttributeError as e:\n",
        "        return None, None, None\n",
        "\n",
        "    return human_readable, machine_readable, dt\n",
        "\n",
        "\n",
        "\n",
        "def load_dataset(m):\n",
        "    \n",
        "    human_vocab = set()\n",
        "    machine_vocab = set()\n",
        "    dataset = []\n",
        "    Tx = 30\n",
        "    \n",
        "    for i in tqdm(range(m)):\n",
        "        h, m, _ = load_date()\n",
        "        if h is not None:\n",
        "            dataset.append((h, m))\n",
        "            human_vocab.update(tuple(h))\n",
        "            machine_vocab.update(tuple(m))\n",
        "    \n",
        "    human = dict(zip(sorted(human_vocab) + ['<unk>', '<pad>'], \n",
        "                     list(range(len(human_vocab) + 2))))\n",
        "    inv_machine = dict(enumerate(sorted(machine_vocab)))\n",
        "    machine = {v:k for k,v in inv_machine.items()}\n",
        " \n",
        "    return dataset, human, machine, inv_machine"
      ],
      "metadata": {
        "id": "xmzWezCaI-Gu"
      },
      "execution_count": null,
      "outputs": []
    },
    {
      "cell_type": "code",
      "source": [
        "def string_to_int(string, length, vocab):   \n",
        "    # Arguments:\n",
        "    # string -> input string, e.g. 'Wed 10 Jul 2007'\n",
        "    # length -> the number of time steps we'd like, determines if the output will be padded or cut\n",
        "    # vocab -> vocabulary, dictionary used to index every character of \"string\"   \n",
        "    # Returns:\n",
        "    # rep -> list of integers (or '<unk>') (size = length) representing the position of the string's character in the vocabulary\n",
        "   \n",
        "    #make lower to standardize\n",
        "    string = string.lower()\n",
        "    string = string.replace(',','')\n",
        "    \n",
        "    if len(string) > length:\n",
        "        string = string[:length]\n",
        "        \n",
        "    rep = list(map(lambda x: vocab.get(x, '<unk>'), string))\n",
        "    \n",
        "    if len(string) < length:\n",
        "        rep += [vocab['<pad>']] * (length - len(string))\n",
        "    \n",
        "    #print (rep)\n",
        "    return rep"
      ],
      "metadata": {
        "id": "kb4Xqm4_TBnj"
      },
      "execution_count": null,
      "outputs": []
    },
    {
      "cell_type": "code",
      "source": [
        "def int_to_string(ints, inv_vocab):\n",
        "    # Arguments:\n",
        "    # ints -> list of integers representing indexes in the machine's vocabulary\n",
        "    # inv_vocab -> dictionary mapping machine readable indexes to machine readable characters \n",
        "    \n",
        "    # Returns: l -> list of characters corresponding to the indexes of ints thanks to the inv_vocab mapping\n",
        "    \n",
        "    l = [inv_vocab[i] for i in ints]\n",
        "    return l"
      ],
      "metadata": {
        "id": "gGbUMl5ew_o4"
      },
      "execution_count": null,
      "outputs": []
    },
    {
      "cell_type": "code",
      "source": [
        "def preprocess_data(dataset, human_vocab, machine_vocab, Tx, Ty):\n",
        "    \n",
        "    X, Y = zip(*dataset)\n",
        "    \n",
        "    X = np.array([string_to_int(i, Tx, human_vocab) for i in X])\n",
        "    Y = [string_to_int(t, Ty, machine_vocab) for t in Y]\n",
        "    \n",
        "    Xoh = np.array(list(map(lambda x: to_categorical(x, num_classes=len(human_vocab)), X)))\n",
        "    Yoh = np.array(list(map(lambda x: to_categorical(x, num_classes=len(machine_vocab)), Y)))\n",
        "\n",
        "    return X, np.array(Y), Xoh, Yoh"
      ],
      "metadata": {
        "id": "Z9D2Z2-2S6qu"
      },
      "execution_count": null,
      "outputs": []
    },
    {
      "cell_type": "code",
      "source": [
        "def softmax(x, axis=1):\n",
        "    # Arguments\n",
        "    # x : Tensor.\n",
        "    # axis: Integer, axis along which the softmax normalization is applied.\n",
        "    # Returns: Tensor, output of softmax transformation.\n",
        "    # Raises: ValueError: In case `dim(x) == 1`.\n",
        "\n",
        "    ndim = K.ndim(x)\n",
        "    if ndim == 2:\n",
        "        return K.softmax(x)\n",
        "    elif ndim > 2:\n",
        "        e = K.exp(x - K.max(x, axis=axis, keepdims=True))\n",
        "        s = K.sum(e, axis=axis, keepdims=True)\n",
        "        return e / s\n",
        "    else:\n",
        "        raise ValueError('Cannot apply softmax to a tensor that is 1D')"
      ],
      "metadata": {
        "id": "oz0pNKKbatFu"
      },
      "execution_count": null,
      "outputs": []
    },
    {
      "cell_type": "markdown",
      "source": [
        "\n",
        "\n",
        "\n",
        "**Dataset**\n",
        "\n",
        "We will train the model on a dataset of 10,000 human readable dates and their equivalent, standardized machine readable dates. "
      ],
      "metadata": {
        "id": "e_3lpZDxHOsf"
      }
    },
    {
      "cell_type": "code",
      "source": [
        "m = 10000\n",
        "dataset, human_vocab, machine_vocab, inv_machine_vocab = load_dataset(m)"
      ],
      "metadata": {
        "colab": {
          "base_uri": "https://localhost:8080/"
        },
        "id": "a8guHox5IGTu",
        "outputId": "027d3636-2200-46a0-c795-e7673688ec25"
      },
      "execution_count": null,
      "outputs": [
        {
          "output_type": "stream",
          "name": "stderr",
          "text": [
            "100%|██████████| 10000/10000 [04:15<00:00, 39.07it/s]\n"
          ]
        }
      ]
    },
    {
      "cell_type": "code",
      "source": [
        "dataset[:10]"
      ],
      "metadata": {
        "colab": {
          "base_uri": "https://localhost:8080/"
        },
        "id": "RYiLUTWaL5u0",
        "outputId": "50c8b654-2dea-44eb-9e39-defbb0ec13c0"
      },
      "execution_count": null,
      "outputs": [
        {
          "output_type": "execute_result",
          "data": {
            "text/plain": [
              "[('16 april 1999', '1999-04-16'),\n",
              " ('29 mar 1982', '1982-03-29'),\n",
              " ('friday may 5 2006', '2006-05-05'),\n",
              " ('saturday december 14 1991', '1991-12-14'),\n",
              " ('monday february 18 2019', '2019-02-18'),\n",
              " ('tuesday october 25 2005', '2005-10-25'),\n",
              " ('15 sep 1988', '1988-09-15'),\n",
              " ('15 oct 1992', '1992-10-15'),\n",
              " ('jul 23 1985', '1985-07-23'),\n",
              " ('26 09 89', '1989-09-26')]"
            ]
          },
          "metadata": {},
          "execution_count": 5
        }
      ]
    },
    {
      "cell_type": "markdown",
      "source": [
        "- `dataset`: a list of tuples of (human readable date, machine readable date).\n",
        "- `human_vocab`: a python dictionary mapping all characters used in the human readable dates to an integer-valued index.\n",
        "- `machine_vocab`: a python dictionary mapping all characters used in machine readable dates to an integer-valued index.  **Note**: These indices are not necessarily consistent with `human_vocab`. \n",
        "- `inv_machine_vocab`: the inverse dictionary of `machine_vocab`, mapping from indices back to characters. \n",
        "\n",
        "Let's preprocess the data and map the raw text data into the index values. \n",
        "- We will set Tx=30. We assume Tx is the maximum length of the human readable date. If we get a longer input, we have to truncate it.\n",
        "- We will set Ty=10. \"YYYY-MM-DD\" is 10 characters long."
      ],
      "metadata": {
        "id": "45zboxzVR5RO"
      }
    },
    {
      "cell_type": "code",
      "source": [
        "Tx = 30\n",
        "Ty = 10\n",
        "X, Y, Xoh, Yoh = preprocess_data(dataset, human_vocab, machine_vocab, Tx, Ty)\n",
        "\n",
        "print(f\"X.shape: {X.shape}\")\n",
        "print(f\"Y.shape: {Y.shape}\")\n",
        "print(f\"Xoh.shape: {Xoh.shape}\")\n",
        "print(f\"Yoh.shape: {Yoh.shape}\")"
      ],
      "metadata": {
        "colab": {
          "base_uri": "https://localhost:8080/"
        },
        "id": "OD6x8zSbSZPv",
        "outputId": "694c3840-3dd0-4ecd-8cb9-3a867606db70"
      },
      "execution_count": null,
      "outputs": [
        {
          "output_type": "stream",
          "name": "stdout",
          "text": [
            "X.shape: (10000, 30)\n",
            "Y.shape: (10000, 10)\n",
            "Xoh.shape: (10000, 30, 37)\n",
            "Yoh.shape: (10000, 10, 11)\n"
          ]
        }
      ]
    },
    {
      "cell_type": "markdown",
      "source": [
        "We now have:\n",
        "- `X`: a processed version of the human readable dates in the training set. Each character in X is replaced by an index (integer) mapped to the character using `human_vocab`. Each date is padded to ensure a length of $T_x$ using a special character (< pad >). `X.shape = (m, Tx)` where m is the number of training examples in a batch.\n",
        "- `Y`: a processed version of the machine readable dates in the training set. Each character is replaced by the index (integer) it is mapped to in `machine_vocab`. \n",
        "`Y.shape = (m, Ty)`. \n",
        "- `Xoh`: one-hot version of `X`. Each index in `X` is converted to the one-hot representation (if the index is 2, the one-hot version has the index position 2 set to 1 and the remaining positions are 0. `Xoh.shape = (m, Tx, len(human_vocab))`\n",
        "- `Yoh`: one-hot version of `Y`. Each index in `Y` is converted to the one-hot representation. `Yoh.shape = (m, Ty, len(machine_vocab))`.  `len(machine_vocab) = 11` since there are 10 numeric digits (0 to 9) and the `-` symbol."
      ],
      "metadata": {
        "id": "tr-0UOyKT3rr"
      }
    },
    {
      "cell_type": "code",
      "source": [
        "# examples of preprocessed training examples\n",
        "\n",
        "index = 0\n",
        "print(f\"Source date: {dataset[index][0]}\")\n",
        "print(f\"Target date: {dataset[index][1]}\")\n",
        "print()\n",
        "print(f\"Source after preprocessing (indices): {X[index]}\")\n",
        "print(f\"Target after preprocessing (indices): {Y[index]}\")\n",
        "print()\n",
        "print(f\"Source after preprocessing (one-hot): {Xoh[index]}\")\n",
        "print(f\"Target after preprocessing (one-hot): {Yoh[index]}\")"
      ],
      "metadata": {
        "colab": {
          "base_uri": "https://localhost:8080/"
        },
        "id": "QvUGTYPqUgeX",
        "outputId": "389f8024-3a05-40f7-e377-4956ad8335ed"
      },
      "execution_count": null,
      "outputs": [
        {
          "output_type": "stream",
          "name": "stdout",
          "text": [
            "Source date: 16 april 1999\n",
            "Target date: 1999-04-16\n",
            "\n",
            "Source after preprocessing (indices): [ 4  9  0 13 27 28 21 23  0  4 12 12 12 36 36 36 36 36 36 36 36 36 36 36\n",
            " 36 36 36 36 36 36]\n",
            "Target after preprocessing (indices): [ 2 10 10 10  0  1  5  0  2  7]\n",
            "\n",
            "Source after preprocessing (one-hot): [[0. 0. 0. ... 0. 0. 0.]\n",
            " [0. 0. 0. ... 0. 0. 0.]\n",
            " [1. 0. 0. ... 0. 0. 0.]\n",
            " ...\n",
            " [0. 0. 0. ... 0. 0. 1.]\n",
            " [0. 0. 0. ... 0. 0. 1.]\n",
            " [0. 0. 0. ... 0. 0. 1.]]\n",
            "Target after preprocessing (one-hot): [[0. 0. 1. 0. 0. 0. 0. 0. 0. 0. 0.]\n",
            " [0. 0. 0. 0. 0. 0. 0. 0. 0. 0. 1.]\n",
            " [0. 0. 0. 0. 0. 0. 0. 0. 0. 0. 1.]\n",
            " [0. 0. 0. 0. 0. 0. 0. 0. 0. 0. 1.]\n",
            " [1. 0. 0. 0. 0. 0. 0. 0. 0. 0. 0.]\n",
            " [0. 1. 0. 0. 0. 0. 0. 0. 0. 0. 0.]\n",
            " [0. 0. 0. 0. 0. 1. 0. 0. 0. 0. 0.]\n",
            " [1. 0. 0. 0. 0. 0. 0. 0. 0. 0. 0.]\n",
            " [0. 0. 1. 0. 0. 0. 0. 0. 0. 0. 0.]\n",
            " [0. 0. 0. 0. 0. 0. 0. 1. 0. 0. 0.]]\n"
          ]
        }
      ]
    },
    {
      "cell_type": "markdown",
      "source": [
        "**Neural Machine Translation with Attention**\n",
        "\n",
        "* If we have to translate a book's paragraph from French to English, we will not read the whole paragraph then close the book and translate. \n",
        "* Even during the translation process, we will read/re-read and focus on the parts of the French paragraph corresponding to the parts of the English we are writing down. \n",
        "* The attention mechanism tells a Neural Machine Translation model where it should pay attention to at any step. \n",
        "\n",
        "\n",
        "We will use a LSTM instead of a basic RNN. So the LSTM has both the hidden state $s^{\\langle t\\rangle}$ and the cell state $c^{\\langle t\\rangle}$. \n",
        "\n",
        "#### Each time step does not use predictions from the previous time step\n",
        "* Unlike text generation examples, in this model, the post-attention LSTM at time $t$ does not take the previous time step's prediction $y^{\\langle t-1 \\rangle}$ as input.\n",
        "* The post-attention LSTM at time 't' only takes the hidden state $s^{\\langle t\\rangle}$ and cell state $c^{\\langle t\\rangle}$ as input. \n",
        "* We have designed the model this way because unlike language generation (where adjacent characters are highly correlated) there isn't as strong a dependency between the previous character and the next character in a YYYY-MM-DD date.\n",
        "\n",
        "#### Concatenation of hidden states from the forward and backward pre-attention LSTMs\n",
        "- $\\overrightarrow{a}^{\\langle t \\rangle}$: hidden state of the forward-direction, pre-attention LSTM.\n",
        "- $\\overleftarrow{a}^{\\langle t \\rangle}$: hidden state of the backward-direction, pre-attention LSTM.\n",
        "- $a^{\\langle t \\rangle} = [\\overrightarrow{a}^{\\langle t \\rangle}, \\overleftarrow{a}^{\\langle t \\rangle}]$: the concatenation of the activations of both the forward-direction $\\overrightarrow{a}^{\\langle t \\rangle}$ and backward-directions $\\overleftarrow{a}^{\\langle t \\rangle}$ of the pre-attention Bi-LSTM. \n",
        "\n",
        "#### Computing \"energies\" $e^{\\langle t, t' \\rangle}$ as a function of $s^{\\langle t-1 \\rangle}$ and $a^{\\langle t' \\rangle}$\n",
        " The definition of \"e\" as a function of $s^{\\langle t-1 \\rangle}$ and $a^{\\langle t \\rangle}$.\n",
        "  - \"e\" is called the \"energies\" variable.\n",
        "  - $s^{\\langle t-1 \\rangle}$ is the hidden state of the post-attention LSTM\n",
        "  - $a^{\\langle t' \\rangle}$ is the hidden state of the pre-attention LSTM.\n",
        "  - $s^{\\langle t-1 \\rangle}$ and $a^{\\langle t \\rangle}$ are fed into a simple neural network, which learns the function to output $e^{\\langle t, t' \\rangle}$.\n",
        "  - $e^{\\langle t, t' \\rangle}$ is then used when computing the attention $\\alpha^{\\langle t, t' \\rangle}$ that $y^{\\langle t \\rangle}$ should pay to $a^{\\langle t' \\rangle}$.\n",
        " \n",
        "\n",
        "#### Implementation Details\n",
        "   \n",
        "We will start by implementing two functions: `one_step_attention()` and `model()`.\n",
        "\n",
        "#### one_step_attention\n",
        "The inputs to the one_step_attention at time step $t$ are:\n",
        "  - $[a^{<1>},a^{<2>}, ..., a^{<T_x>}]$: all hidden states of the pre-attention Bi-LSTM.\n",
        "  - $s^{<t-1>}$: the previous hidden state of the post-attention LSTM. \n",
        "\n",
        "one_step_attention computes:\n",
        "  - $[\\alpha^{<t,1>},\\alpha^{<t,2>}, ..., \\alpha^{<t,T_x>}]$: the attention weights.\n",
        "  - $context^{ \\langle t \\rangle }$: the context vector:\n",
        "    \n",
        "$$context^{<t>} = \\sum_{t' = 1}^{T_x} \\alpha^{<t,t'>}a^{<t'>}$$ \n",
        "\n",
        "\n",
        "We are calling the context $context^{\\langle t \\rangle}$. This is to avoid confusion with the post-attention LSTM's internal memory cell variable which is also denoted $c^{\\langle t \\rangle}$. \n"
      ],
      "metadata": {
        "id": "jJ2dvC2QVKh9"
      }
    },
    {
      "cell_type": "markdown",
      "source": [
        "**Implementtion of `one_step_attention()`** \n",
        "\n",
        "* The function `model()` will call the layers in `one_step_attention()` $T_y$ times using a for-loop.\n",
        "* It is important that all $T_y$ copies have the same weights. \n",
        "    * It should not reinitialize the weights every time. \n",
        "    * In other words, all $T_y$ steps should have shared weights. \n",
        "* Here's how we can implement layers with shareable weights in Keras:\n",
        "    1. Defining the layer objects in a variable scope that is outside of the `one_step_attention` function.  For example, defining the objects as global variables would work.\n",
        "        - Defining these variables inside the scope of the function `model` would technically work, since `model` will then call the `one_step_attention` function.   \n",
        "    2. Calling these objects when propagating the input.\n",
        "* We have defined the layers we need as global variables. \n",
        "    * Running the following cells to create them. \n",
        "\n",
        "* Keras documentation to learn more about these layers.  The layers are functions.  Below are examples of how to call these functions.\n",
        "    * [RepeatVector()](https://www.tensorflow.org/api_docs/python/tf/keras/layers/RepeatVector)\n",
        "```Python\n",
        "var_repeated = repeat_layer(var1)\n",
        "```\n",
        "    * [Concatenate()](https://www.tensorflow.org/api_docs/python/tf/keras/layers/Concatenate)   \n",
        "```Python\n",
        "concatenated_vars = concatenate_layer([var1,var2,var3])\n",
        "```\n",
        "    * [Dense()](https://keras.io/layers/core/#dense)  \n",
        "```Python\n",
        "var_out = dense_layer(var_in)\n",
        "```\n",
        "    * [Activation()](https://keras.io/layers/core/#activation)  \n",
        "```Python\n",
        "activation = activation_layer(var_in)  \n",
        "```\n",
        "    * [Dot()](https://www.tensorflow.org/api_docs/python/tf/keras/layers/Dot)  \n",
        "```Python\n",
        "dot_product = dot_layer([var1,var2])\n",
        "```"
      ],
      "metadata": {
        "id": "_RrkoQEcYnae"
      }
    },
    {
      "cell_type": "code",
      "source": [
        "# Defined shared layers as global variables\n",
        "\n",
        "repeator = RepeatVector(Tx)\n",
        "concatenator = Concatenate(axis=-1)\n",
        "densor1 = Dense(10, activation = \"tanh\")\n",
        "densor2 = Dense(1, activation = \"relu\")\n",
        "activator = Activation(softmax, name='attention_weights') \n",
        "dotor = Dot(axes = 1)"
      ],
      "metadata": {
        "id": "T8oExIKRZfRX"
      },
      "execution_count": null,
      "outputs": []
    },
    {
      "cell_type": "code",
      "source": [
        "# one step attention\n",
        "\n",
        "def one_step_attention(a, s_prev):\n",
        "\n",
        "    # Performs one step of attention: Outputs a context vector computed as a dot product of the attention weights\n",
        "    # \"alphas\" and the hidden states \"a\" of the Bi-LSTM.\n",
        "    \n",
        "    # Arguments:\n",
        "    # a -> hidden state output of the Bi-LSTM, numpy-array of shape (m, Tx, 2*n_a)\n",
        "    # s_prev -> previous hidden state of the (post-attention) LSTM, numpy-array of shape (m, n_s)\n",
        "    \n",
        "    # Returns:\n",
        "    # context -> context vector, input of the next (post-attention) LSTM cell\n",
        "    \n",
        "\n",
        "    # Use repeator to repeat s_prev to be of shape (m, Tx, n_s) for concatenating it with all hidden states \"a\" \n",
        "    s_prev = repeator(s_prev)\n",
        "    \n",
        "    # Use concatenator to concatenate a and s_prev on the last axis \n",
        "    concat = concatenator([a, s_prev])\n",
        "   \n",
        "    # Use densor1 to propagate concat through a small fully-connected neural network to compute the \"intermediate energies\" variable e. \n",
        "    e = densor1(concat)\n",
        "    \n",
        "    # Use densor2 to propagate e through a small fully-connected neural network to compute the \"energies\" variable energies. \n",
        "    energies = densor2(e)\n",
        "    \n",
        "    # Use \"activator\" on \"energies\" to compute the attention weights \"alphas\" \n",
        "    alphas = activator(energies)\n",
        "    \n",
        "    # Use dotor together with \"alphas\" and \"a\", in this order, to compute the context vector to be given to the next (post-attention) LSTM-cell \n",
        "    context = dotor([alphas, a])\n",
        "    \n",
        "    return context"
      ],
      "metadata": {
        "id": "T-_Nu-qObF8v"
      },
      "execution_count": null,
      "outputs": []
    },
    {
      "cell_type": "markdown",
      "source": [
        "**Implementation of `modelf()`** \n",
        "\n",
        "* `modelf` first runs the input through a Bi-LSTM to get $[a^{<1>},a^{<2>}, ..., a^{<T_x>}]$. \n",
        "* Then, `modelf` calls `one_step_attention()` $T_y$ times using a `for` loop.  At each iteration of this loop:\n",
        "    - It gives the computed context vector $context^{<t>}$ to the post-attention LSTM.\n",
        "    - It runs the output of the post-attention LSTM through a dense layer with softmax activation.\n",
        "    - The softmax generates a prediction $\\hat{y}^{<t>}$.\n",
        "    \n",
        "We have defined global layers that will share weights to be used in `modelf()`."
      ],
      "metadata": {
        "id": "ORCWnlqgcL1d"
      }
    },
    {
      "cell_type": "code",
      "source": [
        "n_a = 32 # number of units for the pre-attention, bi-directional LSTM's hidden state 'a'\n",
        "n_s = 64 # number of units for the post-attention LSTM's hidden state \"s\"\n",
        "\n",
        "# this is the post attention LSTM cell  \n",
        "post_activation_LSTM_cell = LSTM(n_s, return_state = True) # do not modify this global variable.\n",
        "output_layer = Dense(len(machine_vocab), activation=softmax)"
      ],
      "metadata": {
        "id": "6Z4brYLMcdH3"
      },
      "execution_count": null,
      "outputs": []
    },
    {
      "cell_type": "markdown",
      "source": [
        "Now we can use these layers $T_y$ times in a `for` loop to generate the outputs and their parameters will not be reinitialized. We will have to carry out the following steps: \n",
        "\n",
        "1. Propagate the input `X` into a bi-directional LSTM.\n",
        "    * [Bidirectional](https://keras.io/layers/wrappers/#bidirectional) \n",
        "    * [LSTM](https://keras.io/layers/recurrent/#lstm)\n",
        "    * Remember that we want the LSTM to return a full sequence instead of just the last hidden state.  \n",
        "    \n",
        "Sample code:\n",
        "\n",
        "```Python\n",
        "sequence_of_hidden_states = Bidirectional(LSTM(units=..., return_sequences=...))(the_input_X)\n",
        "```\n",
        "    \n",
        "2. Iterate for $t = 0, \\cdots, T_y-1$: \n",
        "    \n",
        "- Call `one_step_attention()`, passing in the sequence of hidden states $[a^{\\langle 1 \\rangle},a^{\\langle 2 \\rangle}, ..., a^{ \\langle T_x \\rangle}]$ from the pre-attention bi-directional LSTM and the previous hidden state $s^{<t-1>}$ from the post-attention LSTM to calculate the context vector $context^{<t>}$.\n",
        "- Give $context^{<t>}$ to the post-attention LSTM cell. \n",
        "     - Remember to pass in the previous hidden-state $s^{\\langle t-1\\rangle}$ and cell-states $c^{\\langle t-1\\rangle}$ of this LSTM \n",
        "\n",
        "     - This outputs the new hidden state \n",
        "  $s^{<t>}$ \n",
        "and the new cell state $c^{<t>}$.   \n",
        "\n",
        "        Sample code:\n",
        "        ```Python\n",
        "        next_hidden_state, _ , next_cell_state = \n",
        "            post_activation_LSTM_cell(inputs=..., initial_state=[prev_hidden_state, prev_cell_state])\n",
        "        ```   \n",
        "        The layer is actually the \"post attention LSTM cell\".  \n",
        "\n",
        "     - Apply a dense, softmax layer to\n",
        "  $s^{<t>}$, get the output.  \n",
        "        Sample code:\n",
        "        ```Python\n",
        "        output = output_layer(inputs=...)\n",
        "        ```\n",
        "     - Save the output by adding it to the list of outputs.\n",
        "\n",
        "3. Create Keras model instance.\n",
        "\n",
        "- It should have three inputs:\n",
        "    - `X`, the one-hot encoded inputs to the model of shape ($T_{x}, humanVocabSize)$\n",
        "    - $s^{\\langle 0 \\rangle}$, the initial hidden state of the post-attention LSTM\n",
        "    - $c^{\\langle 0 \\rangle}$, the initial cell state of the post-attention LSTM\n",
        "- The output is the list of outputs.  \n",
        "    Sample code\n",
        "    ```Python\n",
        "    model = Model(inputs=[...,...,...], outputs=...)\n",
        "    ```"
      ],
      "metadata": {
        "id": "EfbfiB4Ncx94"
      }
    },
    {
      "cell_type": "code",
      "source": [
        "# model\n",
        "\n",
        "def modelf(Tx, Ty, n_a, n_s, human_vocab_size, machine_vocab_size):\n",
        " \n",
        "    # Arguments:\n",
        "    # Tx -> length of the input sequence\n",
        "    # Ty -> length of the output sequence\n",
        "    # n_a -> hidden state size of the Bi-LSTM\n",
        "    # n_s -> hidden state size of the post-attention LSTM\n",
        "    # human_vocab_size -> size of the python dictionary \"human_vocab\"\n",
        "    # machine_vocab_size -> size of the python dictionary \"machine_vocab\"\n",
        "\n",
        "    # Returns:\n",
        "    # model -> Keras model instance\n",
        "  \n",
        "    \n",
        "    # Define the inputs of model with a shape (Tx,)  \n",
        "    X = Input(shape=(Tx, human_vocab_size))\n",
        "\n",
        "    # Define s0 (initial hidden state) and c0 (initial cell state) for the decoder LSTM with shape (n_s,)\n",
        "    s0 = Input(shape=(n_s,), name='s0')\n",
        "    c0 = Input(shape=(n_s,), name='c0')\n",
        "    s = s0\n",
        "    c = c0\n",
        "    \n",
        "    # Initialize empty list of outputs\n",
        "    outputs = []\n",
        "    \n",
        "    # Step 1: Define pre-attention Bi-LSTM\n",
        "    a = Bidirectional(LSTM(n_a, return_sequences = True))(X)\n",
        "    \n",
        "    # Step 2: Iterate for Ty steps\n",
        "    for t in range(Ty):\n",
        "    \n",
        "        # Step 2.A: Perform one step of the attention mechanism to get back the context vector at step t\n",
        "        context = one_step_attention(a, s)\n",
        "        \n",
        "        # Step 2.B: Apply the post-attention LSTM cell to the \"context\" vector. initial_state = [hidden state, cell state]\n",
        "        s, _, c = post_activation_LSTM_cell(context, initial_state = [s, c])\n",
        "        \n",
        "        # Step 2.C: Apply Dense layer to the hidden state output of the post-attention LSTM \n",
        "        out = output_layer(s)\n",
        "        \n",
        "        # Step 2.D: Append \"out\" to the \"outputs\" list \n",
        "        outputs.append(out)\n",
        "    \n",
        "    # Step 3: Create model instance taking three inputs and returning the list of outputs \n",
        "    model = Model([X, s0, c0], outputs)\n",
        "    \n",
        "    return model"
      ],
      "metadata": {
        "id": "4qBil5ediRNs"
      },
      "execution_count": null,
      "outputs": []
    },
    {
      "cell_type": "code",
      "source": [
        "model = modelf(Tx, Ty, n_a, n_s, len(human_vocab), len(machine_vocab))"
      ],
      "metadata": {
        "id": "Dd7Vk4_ojfcs"
      },
      "execution_count": null,
      "outputs": []
    },
    {
      "cell_type": "code",
      "source": [
        "model.summary()"
      ],
      "metadata": {
        "colab": {
          "base_uri": "https://localhost:8080/"
        },
        "id": "8GGHZRX1kdY3",
        "outputId": "7b091b10-fdb2-4325-c328-b890cb3bd57f"
      },
      "execution_count": null,
      "outputs": [
        {
          "output_type": "stream",
          "name": "stdout",
          "text": [
            "Model: \"model\"\n",
            "__________________________________________________________________________________________________\n",
            " Layer (type)                   Output Shape         Param #     Connected to                     \n",
            "==================================================================================================\n",
            " input_1 (InputLayer)           [(None, 30, 37)]     0           []                               \n",
            "                                                                                                  \n",
            " s0 (InputLayer)                [(None, 64)]         0           []                               \n",
            "                                                                                                  \n",
            " bidirectional (Bidirectional)  (None, 30, 64)       17920       ['input_1[0][0]']                \n",
            "                                                                                                  \n",
            " repeat_vector (RepeatVector)   (None, 30, 64)       0           ['s0[0][0]',                     \n",
            "                                                                  'lstm[0][0]',                   \n",
            "                                                                  'lstm[1][0]',                   \n",
            "                                                                  'lstm[2][0]',                   \n",
            "                                                                  'lstm[3][0]',                   \n",
            "                                                                  'lstm[4][0]',                   \n",
            "                                                                  'lstm[5][0]',                   \n",
            "                                                                  'lstm[6][0]',                   \n",
            "                                                                  'lstm[7][0]',                   \n",
            "                                                                  'lstm[8][0]']                   \n",
            "                                                                                                  \n",
            " concatenate (Concatenate)      (None, 30, 128)      0           ['bidirectional[0][0]',          \n",
            "                                                                  'repeat_vector[0][0]',          \n",
            "                                                                  'bidirectional[0][0]',          \n",
            "                                                                  'repeat_vector[1][0]',          \n",
            "                                                                  'bidirectional[0][0]',          \n",
            "                                                                  'repeat_vector[2][0]',          \n",
            "                                                                  'bidirectional[0][0]',          \n",
            "                                                                  'repeat_vector[3][0]',          \n",
            "                                                                  'bidirectional[0][0]',          \n",
            "                                                                  'repeat_vector[4][0]',          \n",
            "                                                                  'bidirectional[0][0]',          \n",
            "                                                                  'repeat_vector[5][0]',          \n",
            "                                                                  'bidirectional[0][0]',          \n",
            "                                                                  'repeat_vector[6][0]',          \n",
            "                                                                  'bidirectional[0][0]',          \n",
            "                                                                  'repeat_vector[7][0]',          \n",
            "                                                                  'bidirectional[0][0]',          \n",
            "                                                                  'repeat_vector[8][0]',          \n",
            "                                                                  'bidirectional[0][0]',          \n",
            "                                                                  'repeat_vector[9][0]']          \n",
            "                                                                                                  \n",
            " dense (Dense)                  (None, 30, 10)       1290        ['concatenate[0][0]',            \n",
            "                                                                  'concatenate[1][0]',            \n",
            "                                                                  'concatenate[2][0]',            \n",
            "                                                                  'concatenate[3][0]',            \n",
            "                                                                  'concatenate[4][0]',            \n",
            "                                                                  'concatenate[5][0]',            \n",
            "                                                                  'concatenate[6][0]',            \n",
            "                                                                  'concatenate[7][0]',            \n",
            "                                                                  'concatenate[8][0]',            \n",
            "                                                                  'concatenate[9][0]']            \n",
            "                                                                                                  \n",
            " dense_1 (Dense)                (None, 30, 1)        11          ['dense[0][0]',                  \n",
            "                                                                  'dense[1][0]',                  \n",
            "                                                                  'dense[2][0]',                  \n",
            "                                                                  'dense[3][0]',                  \n",
            "                                                                  'dense[4][0]',                  \n",
            "                                                                  'dense[5][0]',                  \n",
            "                                                                  'dense[6][0]',                  \n",
            "                                                                  'dense[7][0]',                  \n",
            "                                                                  'dense[8][0]',                  \n",
            "                                                                  'dense[9][0]']                  \n",
            "                                                                                                  \n",
            " attention_weights (Activation)  (None, 30, 1)       0           ['dense_1[0][0]',                \n",
            "                                                                  'dense_1[1][0]',                \n",
            "                                                                  'dense_1[2][0]',                \n",
            "                                                                  'dense_1[3][0]',                \n",
            "                                                                  'dense_1[4][0]',                \n",
            "                                                                  'dense_1[5][0]',                \n",
            "                                                                  'dense_1[6][0]',                \n",
            "                                                                  'dense_1[7][0]',                \n",
            "                                                                  'dense_1[8][0]',                \n",
            "                                                                  'dense_1[9][0]']                \n",
            "                                                                                                  \n",
            " dot (Dot)                      (None, 1, 64)        0           ['attention_weights[0][0]',      \n",
            "                                                                  'bidirectional[0][0]',          \n",
            "                                                                  'attention_weights[1][0]',      \n",
            "                                                                  'bidirectional[0][0]',          \n",
            "                                                                  'attention_weights[2][0]',      \n",
            "                                                                  'bidirectional[0][0]',          \n",
            "                                                                  'attention_weights[3][0]',      \n",
            "                                                                  'bidirectional[0][0]',          \n",
            "                                                                  'attention_weights[4][0]',      \n",
            "                                                                  'bidirectional[0][0]',          \n",
            "                                                                  'attention_weights[5][0]',      \n",
            "                                                                  'bidirectional[0][0]',          \n",
            "                                                                  'attention_weights[6][0]',      \n",
            "                                                                  'bidirectional[0][0]',          \n",
            "                                                                  'attention_weights[7][0]',      \n",
            "                                                                  'bidirectional[0][0]',          \n",
            "                                                                  'attention_weights[8][0]',      \n",
            "                                                                  'bidirectional[0][0]',          \n",
            "                                                                  'attention_weights[9][0]',      \n",
            "                                                                  'bidirectional[0][0]']          \n",
            "                                                                                                  \n",
            " c0 (InputLayer)                [(None, 64)]         0           []                               \n",
            "                                                                                                  \n",
            " lstm (LSTM)                    [(None, 64),         33024       ['dot[0][0]',                    \n",
            "                                 (None, 64),                      's0[0][0]',                     \n",
            "                                 (None, 64)]                      'c0[0][0]',                     \n",
            "                                                                  'dot[1][0]',                    \n",
            "                                                                  'lstm[0][0]',                   \n",
            "                                                                  'lstm[0][2]',                   \n",
            "                                                                  'dot[2][0]',                    \n",
            "                                                                  'lstm[1][0]',                   \n",
            "                                                                  'lstm[1][2]',                   \n",
            "                                                                  'dot[3][0]',                    \n",
            "                                                                  'lstm[2][0]',                   \n",
            "                                                                  'lstm[2][2]',                   \n",
            "                                                                  'dot[4][0]',                    \n",
            "                                                                  'lstm[3][0]',                   \n",
            "                                                                  'lstm[3][2]',                   \n",
            "                                                                  'dot[5][0]',                    \n",
            "                                                                  'lstm[4][0]',                   \n",
            "                                                                  'lstm[4][2]',                   \n",
            "                                                                  'dot[6][0]',                    \n",
            "                                                                  'lstm[5][0]',                   \n",
            "                                                                  'lstm[5][2]',                   \n",
            "                                                                  'dot[7][0]',                    \n",
            "                                                                  'lstm[6][0]',                   \n",
            "                                                                  'lstm[6][2]',                   \n",
            "                                                                  'dot[8][0]',                    \n",
            "                                                                  'lstm[7][0]',                   \n",
            "                                                                  'lstm[7][2]',                   \n",
            "                                                                  'dot[9][0]',                    \n",
            "                                                                  'lstm[8][0]',                   \n",
            "                                                                  'lstm[8][2]']                   \n",
            "                                                                                                  \n",
            " dense_2 (Dense)                (None, 11)           715         ['lstm[0][0]',                   \n",
            "                                                                  'lstm[1][0]',                   \n",
            "                                                                  'lstm[2][0]',                   \n",
            "                                                                  'lstm[3][0]',                   \n",
            "                                                                  'lstm[4][0]',                   \n",
            "                                                                  'lstm[5][0]',                   \n",
            "                                                                  'lstm[6][0]',                   \n",
            "                                                                  'lstm[7][0]',                   \n",
            "                                                                  'lstm[8][0]',                   \n",
            "                                                                  'lstm[9][0]']                   \n",
            "                                                                                                  \n",
            "==================================================================================================\n",
            "Total params: 52,960\n",
            "Trainable params: 52,960\n",
            "Non-trainable params: 0\n",
            "__________________________________________________________________________________________________\n"
          ]
        }
      ]
    },
    {
      "cell_type": "code",
      "source": [
        "# compile the model\n",
        "\n",
        "opt = Adam(learning_rate=0.005, beta_1=0.9, beta_2=0.999, decay=0.01)  \n",
        "model.compile(loss = 'categorical_crossentropy', optimizer = opt, metrics = ['accuracy'])"
      ],
      "metadata": {
        "id": "SE-XbRZIkn6g"
      },
      "execution_count": null,
      "outputs": []
    },
    {
      "cell_type": "markdown",
      "source": [
        "**Define Inputs and Outputs and Fit The Model**\n",
        "\n",
        "The last step is to define all our inputs and outputs to fit the model:\n",
        "- We have input `Xoh` of shape $(m = 10000, T_x = 30, human\\_vocab=37)$ containing the training examples.\n",
        "- We need to create `s0` and `c0` to initialize our `post_attention_LSTM_cell` with zeros.\n",
        "- Given the `model()` , we need the \"outputs\" to be a list of 10 elements of shape (m, T_y). \n",
        "    - The list `outputs[i][0], ..., outputs[i][Ty]` represents the true labels (characters) corresponding to the $i^{th}$ training example (`Xoh[i]`). \n",
        "    - `outputs[i][j]` is the true label of the $j^{th}$ character in the $i^{th}$ training example."
      ],
      "metadata": {
        "id": "dGRbUSsslcb_"
      }
    },
    {
      "cell_type": "code",
      "source": [
        "s0 = np.zeros((m, n_s))\n",
        "c0 = np.zeros((m, n_s))\n",
        "outputs = list(Yoh.swapaxes(0,1))"
      ],
      "metadata": {
        "id": "dkTAVRvvmCCX"
      },
      "execution_count": null,
      "outputs": []
    },
    {
      "cell_type": "code",
      "source": [
        "model.fit([Xoh, s0, c0], outputs, epochs=1, batch_size=100)"
      ],
      "metadata": {
        "colab": {
          "base_uri": "https://localhost:8080/"
        },
        "id": "-t2DRmPkmJ06",
        "outputId": "e1ab0da9-d24b-440d-c358-b10269a02d25"
      },
      "execution_count": null,
      "outputs": [
        {
          "output_type": "stream",
          "name": "stdout",
          "text": [
            "100/100 [==============================] - 30s 78ms/step - loss: 16.2924 - dense_2_loss: 1.2584 - dense_2_1_loss: 1.0106 - dense_2_2_loss: 1.7201 - dense_2_3_loss: 2.6522 - dense_2_4_loss: 0.7556 - dense_2_5_loss: 1.2094 - dense_2_6_loss: 2.6753 - dense_2_7_loss: 0.8661 - dense_2_8_loss: 1.6694 - dense_2_9_loss: 2.4753 - dense_2_accuracy: 0.4803 - dense_2_1_accuracy: 0.7080 - dense_2_2_accuracy: 0.3094 - dense_2_3_accuracy: 0.1024 - dense_2_4_accuracy: 0.9037 - dense_2_5_accuracy: 0.3724 - dense_2_6_accuracy: 0.0643 - dense_2_7_accuracy: 0.9219 - dense_2_8_accuracy: 0.2634 - dense_2_9_accuracy: 0.1175\n"
          ]
        },
        {
          "output_type": "execute_result",
          "data": {
            "text/plain": [
              "<keras.callbacks.History at 0x7f2fd0079490>"
            ]
          },
          "metadata": {},
          "execution_count": 22
        }
      ]
    },
    {
      "cell_type": "markdown",
      "source": [
        "This model already has been run for longer and saved the weights. Loading pre-trained weights. (By training a model for several minutes, we should be able to obtain a model of similar accuracy but loading pre-trained model will save time.)"
      ],
      "metadata": {
        "id": "GeAyc9kHnb97"
      }
    },
    {
      "cell_type": "code",
      "source": [
        "model.load_weights(\"/content/model.h5\")"
      ],
      "metadata": {
        "id": "pnqzCXsroBqn"
      },
      "execution_count": null,
      "outputs": []
    },
    {
      "cell_type": "code",
      "source": [
        "# trying on new examples\n",
        "\n",
        "EXAMPLES = ['3 May 1979', '5 April 09', '21th of August 2016', 'Tue 10 Jul 2007', 'Saturday May 9 2018', 'March 3 2001', 'March 3rd 2001', '1 March 2001']\n",
        "s00 = np.zeros((1, n_s))\n",
        "c00 = np.zeros((1, n_s))\n",
        "for example in EXAMPLES:\n",
        "    source = string_to_int(example, Tx, human_vocab)\n",
        "    #print(source)\n",
        "    source = np.array(list(map(lambda x: to_categorical(x, num_classes=len(human_vocab)), source))).swapaxes(0,1)\n",
        "    source = np.swapaxes(source, 0, 1)\n",
        "    source = np.expand_dims(source, axis=0)\n",
        "    prediction = model.predict([source, s00, c00])\n",
        "    prediction = np.argmax(prediction, axis = -1)\n",
        "    output = [inv_machine_vocab[int(i)] for i in prediction]\n",
        "    print(f\"source: {example}\")\n",
        "    print(f\"output: {''.join(output)}\\n\")"
      ],
      "metadata": {
        "colab": {
          "base_uri": "https://localhost:8080/"
        },
        "id": "tEP_MFB4oNs7",
        "outputId": "3a91cffc-bcd6-438a-89ea-6df405ca4e25"
      },
      "execution_count": null,
      "outputs": [
        {
          "output_type": "stream",
          "name": "stdout",
          "text": [
            "source: 3 May 1979\n",
            "output: 1979-05-33\n",
            "\n",
            "source: 5 April 09\n",
            "output: 2009-04-05\n",
            "\n",
            "source: 21th of August 2016\n",
            "output: 2016-08-20\n",
            "\n",
            "source: Tue 10 Jul 2007\n",
            "output: 2007-07-10\n",
            "\n",
            "source: Saturday May 9 2018\n",
            "output: 2018-05-09\n",
            "\n",
            "source: March 3 2001\n",
            "output: 2001-03-03\n",
            "\n",
            "source: March 3rd 2001\n",
            "output: 2001-03-03\n",
            "\n",
            "source: 1 March 2001\n",
            "output: 2001-03-01\n",
            "\n"
          ]
        }
      ]
    },
    {
      "cell_type": "markdown",
      "source": [
        "**Visualizing Attention** \n",
        "\n",
        "Since the problem has a fixed output length of 10, it is also possible to carry out this task using 10 different softmax units to generate the 10 characters of the output. But one advantage of the attention model is that each part of the output (such as the month) knows it needs to depend only on a small part of the input (the characters in the input giving the month). We can  visualize what each part of the output is looking at which part of the input.\n",
        "\n"
      ],
      "metadata": {
        "id": "0E9ixAIPoKdI"
      }
    },
    {
      "cell_type": "markdown",
      "source": [
        "**Getting Attention Weights From The Network**\n",
        "\n",
        "Lets now visualize the attention values in our network. We'll propagate an example through the network then visualize the values of $\\alpha^{\\langle t, t' \\rangle}$. \n",
        "\n",
        "To figure out where the attention values are located, let's start by printing a summary of the model ."
      ],
      "metadata": {
        "id": "Rk2ES4sovVfU"
      }
    },
    {
      "cell_type": "code",
      "source": [
        "model.summary()"
      ],
      "metadata": {
        "colab": {
          "base_uri": "https://localhost:8080/"
        },
        "id": "hdb-VCcTvjyD",
        "outputId": "20c0e0c2-4175-4e91-d279-957a3cebee73"
      },
      "execution_count": null,
      "outputs": [
        {
          "output_type": "stream",
          "name": "stdout",
          "text": [
            "Model: \"model\"\n",
            "__________________________________________________________________________________________________\n",
            " Layer (type)                   Output Shape         Param #     Connected to                     \n",
            "==================================================================================================\n",
            " input_1 (InputLayer)           [(None, 30, 37)]     0           []                               \n",
            "                                                                                                  \n",
            " s0 (InputLayer)                [(None, 64)]         0           []                               \n",
            "                                                                                                  \n",
            " bidirectional (Bidirectional)  (None, 30, 64)       17920       ['input_1[0][0]']                \n",
            "                                                                                                  \n",
            " repeat_vector (RepeatVector)   (None, 30, 64)       0           ['s0[0][0]',                     \n",
            "                                                                  'lstm[0][0]',                   \n",
            "                                                                  'lstm[1][0]',                   \n",
            "                                                                  'lstm[2][0]',                   \n",
            "                                                                  'lstm[3][0]',                   \n",
            "                                                                  'lstm[4][0]',                   \n",
            "                                                                  'lstm[5][0]',                   \n",
            "                                                                  'lstm[6][0]',                   \n",
            "                                                                  'lstm[7][0]',                   \n",
            "                                                                  'lstm[8][0]']                   \n",
            "                                                                                                  \n",
            " concatenate (Concatenate)      (None, 30, 128)      0           ['bidirectional[0][0]',          \n",
            "                                                                  'repeat_vector[0][0]',          \n",
            "                                                                  'bidirectional[0][0]',          \n",
            "                                                                  'repeat_vector[1][0]',          \n",
            "                                                                  'bidirectional[0][0]',          \n",
            "                                                                  'repeat_vector[2][0]',          \n",
            "                                                                  'bidirectional[0][0]',          \n",
            "                                                                  'repeat_vector[3][0]',          \n",
            "                                                                  'bidirectional[0][0]',          \n",
            "                                                                  'repeat_vector[4][0]',          \n",
            "                                                                  'bidirectional[0][0]',          \n",
            "                                                                  'repeat_vector[5][0]',          \n",
            "                                                                  'bidirectional[0][0]',          \n",
            "                                                                  'repeat_vector[6][0]',          \n",
            "                                                                  'bidirectional[0][0]',          \n",
            "                                                                  'repeat_vector[7][0]',          \n",
            "                                                                  'bidirectional[0][0]',          \n",
            "                                                                  'repeat_vector[8][0]',          \n",
            "                                                                  'bidirectional[0][0]',          \n",
            "                                                                  'repeat_vector[9][0]']          \n",
            "                                                                                                  \n",
            " dense (Dense)                  (None, 30, 10)       1290        ['concatenate[0][0]',            \n",
            "                                                                  'concatenate[1][0]',            \n",
            "                                                                  'concatenate[2][0]',            \n",
            "                                                                  'concatenate[3][0]',            \n",
            "                                                                  'concatenate[4][0]',            \n",
            "                                                                  'concatenate[5][0]',            \n",
            "                                                                  'concatenate[6][0]',            \n",
            "                                                                  'concatenate[7][0]',            \n",
            "                                                                  'concatenate[8][0]',            \n",
            "                                                                  'concatenate[9][0]']            \n",
            "                                                                                                  \n",
            " dense_1 (Dense)                (None, 30, 1)        11          ['dense[0][0]',                  \n",
            "                                                                  'dense[1][0]',                  \n",
            "                                                                  'dense[2][0]',                  \n",
            "                                                                  'dense[3][0]',                  \n",
            "                                                                  'dense[4][0]',                  \n",
            "                                                                  'dense[5][0]',                  \n",
            "                                                                  'dense[6][0]',                  \n",
            "                                                                  'dense[7][0]',                  \n",
            "                                                                  'dense[8][0]',                  \n",
            "                                                                  'dense[9][0]']                  \n",
            "                                                                                                  \n",
            " attention_weights (Activation)  (None, 30, 1)       0           ['dense_1[0][0]',                \n",
            "                                                                  'dense_1[1][0]',                \n",
            "                                                                  'dense_1[2][0]',                \n",
            "                                                                  'dense_1[3][0]',                \n",
            "                                                                  'dense_1[4][0]',                \n",
            "                                                                  'dense_1[5][0]',                \n",
            "                                                                  'dense_1[6][0]',                \n",
            "                                                                  'dense_1[7][0]',                \n",
            "                                                                  'dense_1[8][0]',                \n",
            "                                                                  'dense_1[9][0]']                \n",
            "                                                                                                  \n",
            " dot (Dot)                      (None, 1, 64)        0           ['attention_weights[0][0]',      \n",
            "                                                                  'bidirectional[0][0]',          \n",
            "                                                                  'attention_weights[1][0]',      \n",
            "                                                                  'bidirectional[0][0]',          \n",
            "                                                                  'attention_weights[2][0]',      \n",
            "                                                                  'bidirectional[0][0]',          \n",
            "                                                                  'attention_weights[3][0]',      \n",
            "                                                                  'bidirectional[0][0]',          \n",
            "                                                                  'attention_weights[4][0]',      \n",
            "                                                                  'bidirectional[0][0]',          \n",
            "                                                                  'attention_weights[5][0]',      \n",
            "                                                                  'bidirectional[0][0]',          \n",
            "                                                                  'attention_weights[6][0]',      \n",
            "                                                                  'bidirectional[0][0]',          \n",
            "                                                                  'attention_weights[7][0]',      \n",
            "                                                                  'bidirectional[0][0]',          \n",
            "                                                                  'attention_weights[8][0]',      \n",
            "                                                                  'bidirectional[0][0]',          \n",
            "                                                                  'attention_weights[9][0]',      \n",
            "                                                                  'bidirectional[0][0]']          \n",
            "                                                                                                  \n",
            " c0 (InputLayer)                [(None, 64)]         0           []                               \n",
            "                                                                                                  \n",
            " lstm (LSTM)                    [(None, 64),         33024       ['dot[0][0]',                    \n",
            "                                 (None, 64),                      's0[0][0]',                     \n",
            "                                 (None, 64)]                      'c0[0][0]',                     \n",
            "                                                                  'dot[1][0]',                    \n",
            "                                                                  'lstm[0][0]',                   \n",
            "                                                                  'lstm[0][2]',                   \n",
            "                                                                  'dot[2][0]',                    \n",
            "                                                                  'lstm[1][0]',                   \n",
            "                                                                  'lstm[1][2]',                   \n",
            "                                                                  'dot[3][0]',                    \n",
            "                                                                  'lstm[2][0]',                   \n",
            "                                                                  'lstm[2][2]',                   \n",
            "                                                                  'dot[4][0]',                    \n",
            "                                                                  'lstm[3][0]',                   \n",
            "                                                                  'lstm[3][2]',                   \n",
            "                                                                  'dot[5][0]',                    \n",
            "                                                                  'lstm[4][0]',                   \n",
            "                                                                  'lstm[4][2]',                   \n",
            "                                                                  'dot[6][0]',                    \n",
            "                                                                  'lstm[5][0]',                   \n",
            "                                                                  'lstm[5][2]',                   \n",
            "                                                                  'dot[7][0]',                    \n",
            "                                                                  'lstm[6][0]',                   \n",
            "                                                                  'lstm[6][2]',                   \n",
            "                                                                  'dot[8][0]',                    \n",
            "                                                                  'lstm[7][0]',                   \n",
            "                                                                  'lstm[7][2]',                   \n",
            "                                                                  'dot[9][0]',                    \n",
            "                                                                  'lstm[8][0]',                   \n",
            "                                                                  'lstm[8][2]']                   \n",
            "                                                                                                  \n",
            " dense_2 (Dense)                (None, 11)           715         ['lstm[0][0]',                   \n",
            "                                                                  'lstm[1][0]',                   \n",
            "                                                                  'lstm[2][0]',                   \n",
            "                                                                  'lstm[3][0]',                   \n",
            "                                                                  'lstm[4][0]',                   \n",
            "                                                                  'lstm[5][0]',                   \n",
            "                                                                  'lstm[6][0]',                   \n",
            "                                                                  'lstm[7][0]',                   \n",
            "                                                                  'lstm[8][0]',                   \n",
            "                                                                  'lstm[9][0]']                   \n",
            "                                                                                                  \n",
            "==================================================================================================\n",
            "Total params: 52,960\n",
            "Trainable params: 52,960\n",
            "Non-trainable params: 0\n",
            "__________________________________________________________________________________________________\n"
          ]
        }
      ]
    },
    {
      "cell_type": "markdown",
      "source": [
        "By navigating through the output of `model.summary()` above. We can see that the layer named `attention_weights` outputs the `alphas` of shape (m, 30, 1) before `dot_2` computes the context vector for every time step $t = 0, \\ldots, T_y-1$. Let's get the attention weights from this layer.\n",
        "\n",
        "The function `attention_map()` pulls out the attention values from  model and plots them.\n",
        "\n"
      ],
      "metadata": {
        "id": "4GjXg7ULvsSb"
      }
    },
    {
      "cell_type": "code",
      "source": [
        "# helper function\n",
        "\n",
        "def plot_attention_map(modelx, input_vocabulary, inv_output_vocabulary, text, n_s = 128, num = 7):\n",
        "\n",
        "    attention_map = np.zeros((10, 30))\n",
        "    layer = modelx.get_layer('attention_weights')\n",
        "\n",
        "    Ty, Tx = attention_map.shape\n",
        "    \n",
        "    human_vocab_size = 37\n",
        "    \n",
        "    # Well, this is cumbersome but this version of tensorflow-keras has a bug that affects the reuse of layers in a model with the \n",
        "    # functional API. So, we have to recreate the model based on the functional components and connect them one by one. Ideally it \n",
        "    # can be done simply like this:\n",
        "    # layer = modelx.layers[num]\n",
        "    # f = Model(modelx.inputs, [layer.get_output_at(t) for t in range(Ty)])\n",
        "    \n",
        "    \n",
        "    X = modelx.inputs[0] \n",
        "    s0 = modelx.inputs[1] \n",
        "    c0 = modelx.inputs[2] \n",
        "    s = s0\n",
        "    c = s0\n",
        "    \n",
        "    a = modelx.layers[2](X)  \n",
        "    outputs = []\n",
        "\n",
        "    for t in range(Ty):\n",
        "        s_prev = s\n",
        "        s_prev = modelx.layers[3](s_prev)\n",
        "        concat = modelx.layers[4]([a, s_prev]) \n",
        "        e = modelx.layers[5](concat) \n",
        "        energies = modelx.layers[6](e) \n",
        "        alphas = modelx.layers[7](energies) \n",
        "        context = modelx.layers[8]([alphas, a])\n",
        "        # Don't forget to pass: initial_state = [hidden state, cell state] \n",
        "        s, _, c = modelx.layers[10](context, initial_state = [s, c]) \n",
        "        outputs.append(energies)\n",
        "\n",
        "    f = Model(inputs=[X, s0, c0], outputs = outputs)\n",
        "    \n",
        "\n",
        "    s0 = np.zeros((1, n_s))\n",
        "    c0 = np.zeros((1, n_s))\n",
        "    encoded = np.array(string_to_int(text, Tx, input_vocabulary)).reshape((1, 30))\n",
        "    encoded = np.array(list(map(lambda x: to_categorical(x, num_classes=len(input_vocabulary)), encoded)))\n",
        "\n",
        "    \n",
        "    r = f([encoded, s0, c0])\n",
        "        \n",
        "    for t in range(Ty):\n",
        "        for t_prime in range(Tx):\n",
        "            attention_map[t][t_prime] = r[t][0, t_prime]\n",
        "\n",
        "    # Normalize attention map\n",
        "    row_max = attention_map.max(axis=1)\n",
        "    attention_map = attention_map / row_max[:, None]\n",
        "\n",
        "    prediction = modelx.predict([encoded, s0, c0])\n",
        "    \n",
        "    predicted_text = []\n",
        "    for i in range(len(prediction)):\n",
        "        predicted_text.append(int(np.argmax(prediction[i], axis=1)))\n",
        "        \n",
        "    predicted_text = list(predicted_text)\n",
        "    predicted_text = int_to_string(predicted_text, inv_output_vocabulary)\n",
        "    text_ = list(text)\n",
        "    \n",
        "    # get the lengths of the string\n",
        "    input_length = len(text)\n",
        "    output_length = Ty\n",
        "    \n",
        "    # Plot the attention_map\n",
        "    plt.clf()\n",
        "    f = plt.figure(figsize=(8, 8.5))\n",
        "    ax = f.add_subplot(1, 1, 1)\n",
        "\n",
        "    # add image\n",
        "    i = ax.imshow(attention_map, interpolation='nearest', cmap='Blues')\n",
        "\n",
        "    # add colorbar\n",
        "    cbaxes = f.add_axes([0.2, 0, 0.6, 0.03])\n",
        "    cbar = f.colorbar(i, cax=cbaxes, orientation='horizontal')\n",
        "    cbar.ax.set_xlabel('Alpha value (Probability output of the \"softmax\")', labelpad=2)\n",
        "\n",
        "    # add labels\n",
        "    ax.set_yticks(range(output_length))\n",
        "    ax.set_yticklabels(predicted_text[:output_length])\n",
        "\n",
        "    ax.set_xticks(range(input_length))\n",
        "    ax.set_xticklabels(text_[:input_length], rotation=45)\n",
        "\n",
        "    ax.set_xlabel('Input Sequence')\n",
        "    ax.set_ylabel('Output Sequence')\n",
        "\n",
        "    # add grid and legend\n",
        "    ax.grid()\n",
        "\n",
        "    #f.show()\n",
        "    \n",
        "    return attention_map"
      ],
      "metadata": {
        "id": "vfp5RtmlwQdO"
      },
      "execution_count": null,
      "outputs": []
    },
    {
      "cell_type": "code",
      "source": [
        "attention_map = plot_attention_map(model, human_vocab, inv_machine_vocab, \"Tuesday 09 Oct 1993\", num = 7, n_s = 64)"
      ],
      "metadata": {
        "colab": {
          "base_uri": "https://localhost:8080/",
          "height": 460
        },
        "id": "urWn25GAv9_L",
        "outputId": "83fb48e4-6fee-4d56-b56d-8030275c3e4f"
      },
      "execution_count": null,
      "outputs": [
        {
          "output_type": "display_data",
          "data": {
            "text/plain": [
              "<Figure size 432x288 with 0 Axes>"
            ]
          },
          "metadata": {}
        },
        {
          "output_type": "display_data",
          "data": {
            "text/plain": [
              "<Figure size 576x612 with 2 Axes>"
            ],
            "image/png": "[encoded data removed]"
          },
          "metadata": {
            "needs_background": "light"
          }
        }
      ]
    },
    {
      "cell_type": "markdown",
      "source": [
        "On the generated plot we can observe the values of the attention weights for each character of the predicted output. By examining this plot we can check that the places where the network is paying attention that makes sense to us.\n",
        "\n"
      ],
      "metadata": {
        "id": "d7JTOSV_xhHH"
      }
    }
  ]
}