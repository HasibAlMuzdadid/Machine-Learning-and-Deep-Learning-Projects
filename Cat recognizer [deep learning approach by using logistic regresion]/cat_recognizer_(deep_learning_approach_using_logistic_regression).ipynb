{
  "nbformat": 4,
  "nbformat_minor": 0,
  "metadata": {
    "colab": {
      "name": "cat recognizer (deep learning approach using logistic regression).ipynb",
      "provenance": [],
      "collapsed_sections": [],
      "authorship_tag": "ABX9TyMnHXdOt4nOlxVAIaxQipVX",
      "include_colab_link": true
    },
    "kernelspec": {
      "name": "python3",
      "display_name": "Python 3"
    },
    "language_info": {
      "name": "python"
    }
  },
  "cells": [
    {
      "cell_type": "markdown",
      "metadata": {
        "id": "view-in-github",
        "colab_type": "text"
      },
      "source": [
        "<a href=\"https://colab.research.google.com/github/HasibAlMuzdadid/Machine-Learning-and-Deep-Learning-Projects/blob/main/Cat%20recognizer%20%5Bdeep%20learning%20approach%20by%20using%20logistic%20regresion%5D/cat_recognizer_(deep_learning_approach_using_logistic_regression).ipynb\" target=\"_parent\"><img src=\"https://colab.research.google.com/assets/colab-badge.svg\" alt=\"Open In Colab\"/></a>"
      ]
    },
    {
      "cell_type": "markdown",
      "source": [
        "**Cat recognizer using deep learning [ Logistic Regression Using Multiple Hidden Layer ]**"
      ],
      "metadata": {
        "id": "N5KsZwpw2lvk"
      }
    },
    {
      "cell_type": "code",
      "execution_count": null,
      "metadata": {
        "id": "AkYgzuxz62iC"
      },
      "outputs": [],
      "source": [
        "import numpy as np\n",
        "import matplotlib.pyplot as plt\n",
        "import h5py                # for interacting with a dataset that is stored on an H5 file"
      ]
    },
    {
      "cell_type": "code",
      "source": [
        "def load_data():\n",
        "\n",
        "  train_dataset = h5py.File('train_catvnoncat.h5', \"r\")\n",
        "  train_set_x_orig = np.array(train_dataset[\"train_set_x\"][:]) # your train set features\n",
        "  train_set_y_orig = np.array(train_dataset[\"train_set_y\"][:]) # your train set labels\n",
        "\n",
        "  test_dataset = h5py.File('test_catvnoncat.h5', \"r\")\n",
        "  test_set_x_orig = np.array(test_dataset[\"test_set_x\"][:]) # your test set features\n",
        "  test_set_y_orig = np.array(test_dataset[\"test_set_y\"][:]) # your test set labels\n",
        "\n",
        "  classes = np.array(test_dataset[\"list_classes\"][:]) # the list of classes\n",
        "    \n",
        "  train_set_y_orig = train_set_y_orig.reshape((1, train_set_y_orig.shape[0]))\n",
        "  test_set_y_orig = test_set_y_orig.reshape((1, test_set_y_orig.shape[0]))\n",
        "    \n",
        "  return train_set_x_orig, train_set_y_orig, test_set_x_orig, test_set_y_orig, classes"
      ],
      "metadata": {
        "id": "t4ZdHZFDfHZj"
      },
      "execution_count": null,
      "outputs": []
    },
    {
      "cell_type": "code",
      "source": [
        "# Loading the data (cat/non-cat)\n",
        "train_x_orig, train_y, test_x_orig, test_y, classes = load_data()"
      ],
      "metadata": {
        "id": "8cxsmemEiDq3"
      },
      "execution_count": null,
      "outputs": []
    },
    {
      "cell_type": "markdown",
      "source": [
        "train_set_x_orig is a numpy-array of shape (m_train, num_px, num_px, 3)\n",
        "\n",
        "where, \n",
        "\n",
        "* m_train (number of training examples)\n",
        "* m_test (number of test examples)\n",
        "* num_px (height, width of a training image)"
      ],
      "metadata": {
        "id": "egbNjLPyjtYJ"
      }
    },
    {
      "cell_type": "code",
      "source": [
        "print(f\"Train Set[Features] Shape: {train_x_orig.shape}\")\n",
        "print(f\"Test Set[Features] Shape: {test_x_orig.shape}\")\n",
        "print(f\"Train Set[Labels] Shape: {train_y.shape}\")\n",
        "print(f\"Test Set[Labels] Shape: {test_y.shape}\")\n",
        "print(f\"Number of training examples: {train_x_orig.shape[0]}\")\n",
        "print(f\"Number of testing examples: {test_y.shape[0]}\")\n",
        "print(f\"Height/Width of each image: {train_x_orig.shape[1]}\")\n",
        "print(f\"Each image is of size: ({train_x_orig.shape[1]}, {train_x_orig.shape[2]}, {train_x_orig.shape[3]})\")"
      ],
      "metadata": {
        "colab": {
          "base_uri": "https://localhost:8080/"
        },
        "id": "Ot-DeHTajoYP",
        "outputId": "b822fce5-72cd-4c29-b765-85bf7ec1c75b"
      },
      "execution_count": null,
      "outputs": [
        {
          "output_type": "stream",
          "name": "stdout",
          "text": [
            "Train Set[Features] Shape: (209, 64, 64, 3)\n",
            "Test Set[Features] Shape: (50, 64, 64, 3)\n",
            "Train Set[Labels] Shape: (1, 209)\n",
            "Test Set[Labels] Shape: (1, 50)\n",
            "Number of training examples: 209\n",
            "Number of testing examples: 1\n",
            "Height/Width of each image: 64\n",
            "Each image is of size: (64, 64, 3)\n"
          ]
        }
      ]
    },
    {
      "cell_type": "markdown",
      "source": [
        "Each line of train_set_x_orig and test_set_x_orig is an array representing an image. One can visualize an example by running the following code by changing the value of 'index'"
      ],
      "metadata": {
        "id": "3y774-zskZyw"
      }
    },
    {
      "cell_type": "code",
      "source": [
        "# Example of a picture\n",
        "index = 11\n",
        "plt.imshow(train_x_orig[index])\n",
        "plt.show()"
      ],
      "metadata": {
        "colab": {
          "base_uri": "https://localhost:8080/",
          "height": 268
        },
        "id": "Jzo8HTzhkbYk",
        "outputId": "d56eacf6-184b-410d-ef23-7b222ca57fa0"
      },
      "execution_count": null,
      "outputs": [
        {
          "output_type": "display_data",
          "data": {
            "image/png": "[encoded data removed]",
            "text/plain": [
              "<Figure size 432x288 with 1 Axes>"
            ]
          },
          "metadata": {
            "needs_background": "light"
          }
        }
      ]
    },
    {
      "cell_type": "markdown",
      "source": [
        "**Reshape the training and test data sets so that images of size (num_px, num_px, 3) are flattened into single vectors of shape (num_px  ∗  num_px  ∗  3, 1).**\n",
        "\n",
        "A trick when you want to flatten a matrix X of shape (a,b,c,d) to a matrix X_flatten of shape (b ∗ c ∗ d, a) is to use:\n",
        "\n",
        "X_flatten = X.reshape(X.shape[0], -1).T \n",
        "        \n",
        "*X.T is the transpose of X*"
      ],
      "metadata": {
        "id": "IN1AZyq5lPK7"
      }
    },
    {
      "cell_type": "code",
      "source": [
        "# Reshape the training and test examples\n",
        "train_x_flatten=train_x_orig.reshape(train_x_orig.shape[0], -1).T\n",
        "test_x_flatten=test_x_orig.reshape(test_x_orig.shape[0], -1).T\n",
        "\n",
        "\n",
        "print(f\"Train Set[Features] shape: {(train_x_flatten.shape)}\")\n",
        "print(f\"Train Set[Labels] shape: {(train_y.shape)}\")\n",
        "print(f\"Test Set[Features] shape: {(test_x_flatten.shape)}\")\n",
        "print(f\"Test Set[Labels] shape: {(test_y.shape)}\")"
      ],
      "metadata": {
        "colab": {
          "base_uri": "https://localhost:8080/"
        },
        "id": "0tzIoThak7Ub",
        "outputId": "40ce3177-aae7-4c1b-de4c-edc58dce6e86"
      },
      "execution_count": null,
      "outputs": [
        {
          "output_type": "stream",
          "name": "stdout",
          "text": [
            "Train Set[Features] shape: (12288, 209)\n",
            "Train Set[Labels] shape: (1, 209)\n",
            "Test Set[Features] shape: (12288, 50)\n",
            "Test Set[Labels] shape: (1, 50)\n"
          ]
        }
      ]
    },
    {
      "cell_type": "markdown",
      "source": [
        "To represent color images, the red, green and blue channels (RGB) must be specified for each pixel, and so the pixel value is actually a vector of three numbers ranging from 0 to 255.\n",
        "\n",
        "One common preprocessing step in machine learning is to center and standardize  dataset, meaning that substracting the mean of the whole numpy array from each example, and then divide each example by the standard deviation of the whole numpy array. But for picture datasets, it is simpler and more convenient and works almost as well to just divide every row of the dataset by 255 (the maximum value of a pixel channel)."
      ],
      "metadata": {
        "id": "Eni4V0C-lTOt"
      }
    },
    {
      "cell_type": "code",
      "source": [
        "# Standardize the Datasets\n",
        "train_x = train_x_flatten / 255\n",
        "test_x = test_x_flatten / 255"
      ],
      "metadata": {
        "id": "q2O70an_lb8w"
      },
      "execution_count": null,
      "outputs": []
    },
    {
      "cell_type": "code",
      "source": [
        "# Defining some helper functions\n",
        "\n",
        "# sigmoid function\n",
        "def sigmoid(Z):\n",
        "  \n",
        "  A = 1/(1+np.exp(-Z))\n",
        "  cache = Z\n",
        "    \n",
        "  return A, cache\n",
        "\n",
        "\n",
        "# relu function\n",
        "def relu(Z):\n",
        "\n",
        "  A = np.maximum(0,Z) \n",
        "  cache = Z \n",
        " \n",
        "  return A, cache\n",
        "\n",
        "\n",
        "# relu function for back propagation\n",
        "def relu_backward(dA, cache):\n",
        "   \n",
        "  Z = cache\n",
        "  dZ = np.array(dA, copy=True)        # just converting dz to a correct object.\n",
        "  # When z <= 0, we should set dz to 0 as well. \n",
        "  dZ[Z <= 0] = 0\n",
        "    \n",
        "  return dZ\n",
        "\n",
        "\n",
        "# sigmoid function for back propagation\n",
        "def sigmoid_backward(dA, cache):\n",
        "\n",
        "  Z = cache\n",
        "  s = 1/(1+np.exp(-Z))\n",
        "  dZ = dA * s * (1-s)\n",
        "    \n",
        "  return dZ"
      ],
      "metadata": {
        "id": "h1KJzXPbfkdN"
      },
      "execution_count": null,
      "outputs": []
    },
    {
      "cell_type": "markdown",
      "source": [
        "Creating and initializing the parameters for a 2 layered neural network."
      ],
      "metadata": {
        "id": "6lBuaw9Omumw"
      }
    },
    {
      "cell_type": "code",
      "source": [
        "# initialize parameters for two layers\n",
        "\n",
        "def initialize_parameters(n_x, n_h, n_y):\n",
        "  \n",
        "  W1 = np.random.randn(n_h,n_x)*0.01\n",
        "  b1 = np.zeros((n_h,1))\n",
        "  W2 = np.random.randn(n_y,n_h)*0.01\n",
        "  b2 = np.zeros((n_y,1))\n",
        "    \n",
        "  parameters = {\"W1\": W1,\n",
        "                \"b1\": b1,\n",
        "                \"W2\": W2,\n",
        "                \"b2\": b2}\n",
        "    \n",
        "  return parameters    "
      ],
      "metadata": {
        "id": "x-bTWywdhGbs"
      },
      "execution_count": null,
      "outputs": []
    },
    {
      "cell_type": "markdown",
      "source": [
        "Creating and initializing the parameters for a L layered neural network.\n",
        "- we will store $n^{[l]}$, the number of units in different layers, in a variable `layer_dims`. For example, the `layer_dims`  [2,4,1] means there are two inputs, one hidden layer with 4 hidden units, and an output layer with 1 output unit. This means `W1`'s shape was (4,2), `b1` was (4,1), `W2` was (1,4) and `b2` was (1,1). Now we will generalize this to $L$ layers!"
      ],
      "metadata": {
        "id": "c4CcCQUwoJnD"
      }
    },
    {
      "cell_type": "code",
      "source": [
        "# initialize parameters for L layers\n",
        "\n",
        "def initialize_parameters_deep(layer_dims):\n",
        "  \n",
        "  parameters = {}\n",
        "  L = len(layer_dims)       # number of layers in the network\n",
        "\n",
        "  for l in range(1, L):\n",
        "    \n",
        "    parameters['W' + str(l)] = np.random.randn(layer_dims[l],layer_dims[l-1])/ np.sqrt(layer_dims[l-1])   #   *0.01\n",
        "    parameters['b' + str(l)] = np.zeros((layer_dims[l],1))\n",
        "        \n",
        "  return parameters"
      ],
      "metadata": {
        "id": "nDmBLGi6oMIS"
      },
      "execution_count": null,
      "outputs": []
    },
    {
      "cell_type": "markdown",
      "source": [
        "Building the linear part of forward propagation."
      ],
      "metadata": {
        "id": "YbW2knuirDXe"
      }
    },
    {
      "cell_type": "code",
      "source": [
        "#  linear part of forward propagation\n",
        "\n",
        "def linear_forward(A, W, b):\n",
        "    \n",
        "  Z = np.dot(W,A) + b \n",
        "  cache = (A, W, b)\n",
        "    \n",
        "  return Z, cache"
      ],
      "metadata": {
        "id": "Q575x28_rGAK"
      },
      "execution_count": null,
      "outputs": []
    },
    {
      "cell_type": "markdown",
      "source": [
        "Building the linear activation function for linear forward propagation"
      ],
      "metadata": {
        "id": "uj6kuUFxrpKR"
      }
    },
    {
      "cell_type": "code",
      "source": [
        "# linear activation for forward propagation\n",
        "\n",
        "def linear_activation_forward(A_prev, W, b, activation):\n",
        "     \n",
        "  if activation == \"sigmoid\":\n",
        "    Z, linear_cache = linear_forward(A_prev, W, b)   # This \"linear_cache\" contains (A_prev, W, b)\n",
        "    A, activation_cache = sigmoid(Z)                 # This \"activation_cache\" contains \"Z\"\n",
        "        \n",
        "  elif activation == \"relu\":\n",
        "    Z, linear_cache = linear_forward(A_prev, W, b)    # This \"linear_cache\" contains (A_prev, W, b)\n",
        "    A, activation_cache = relu(Z)                     # This \"activation_cache\" contains \"Z\"\n",
        "        \n",
        "  cache = (linear_cache, activation_cache)\n",
        "\n",
        "  return A, cache"
      ],
      "metadata": {
        "id": "CKUWbURNsCNP"
      },
      "execution_count": null,
      "outputs": []
    },
    {
      "cell_type": "markdown",
      "source": [
        "Implementing the forward propagation of the L layered model."
      ],
      "metadata": {
        "id": "2XqxHCVxtba_"
      }
    },
    {
      "cell_type": "code",
      "source": [
        "# L layered model forward\n",
        "\n",
        "def L_model_forward(X, parameters):\n",
        "   \n",
        "  caches = []\n",
        "  A = X\n",
        "  L = len(parameters) // 2                  # number of layers in the neural network\n",
        "    \n",
        "  # Implement [LINEAR -> RELU]*(L-1). Add \"cache\" to the \"caches\" list.\n",
        "  # The for loop starts at 1 because layer 0 is the input\n",
        "  for l in range(1, L):\n",
        "    A_prev = A \n",
        "    A, cache = linear_activation_forward(A_prev, parameters['W' + str(l)], parameters['b' + str(l)], \"relu\")\n",
        "    caches.append(cache)\n",
        "        \n",
        "  # Implement LINEAR -> SIGMOID. Add \"cache\" to the \"caches\" list.\n",
        "  AL, cache = linear_activation_forward(A, parameters['W' + str(L)], parameters['b' + str(L)], \"sigmoid\")\n",
        "  caches.append(cache)\n",
        "    \n",
        "  return AL, caches"
      ],
      "metadata": {
        "id": "axc8MnFK4lJd"
      },
      "execution_count": null,
      "outputs": []
    },
    {
      "cell_type": "markdown",
      "source": [
        "Implementing the cost function"
      ],
      "metadata": {
        "id": "SwB_EeiN5kYU"
      }
    },
    {
      "cell_type": "code",
      "source": [
        "# computing cost\n",
        "\n",
        "def compute_cost(AL, Y):\n",
        "   \n",
        "  m = Y.shape[1]\n",
        "  # Compute loss from aL and y.\n",
        "  cost = (-1/m) * (np.dot(Y, np.log(AL).T) + np.dot((1-Y), np.log(1-AL).T))\n",
        "    \n",
        "  cost = np.squeeze(cost)      # To make sure cost's shape is what we expect (e.g. this turns [[17]] into 17).\n",
        "\n",
        "  return cost"
      ],
      "metadata": {
        "id": "ZvztNZZ85nSC"
      },
      "execution_count": null,
      "outputs": []
    },
    {
      "cell_type": "markdown",
      "source": [
        "Implementing linear backward propagation\n"
      ],
      "metadata": {
        "id": "QBQsH9wD6bNv"
      }
    },
    {
      "cell_type": "code",
      "source": [
        "#  linear backward propagation\n",
        "\n",
        "def linear_backward(dZ, cache):\n",
        "    \n",
        "  A_prev, W, b = cache\n",
        "  m = A_prev.shape[1]\n",
        "\n",
        "  dW = (1/m) * np.dot(dZ, A_prev.T)\n",
        "  db = (1/m) * np.sum(dZ, axis=1, keepdims=True)\n",
        "  dA_prev = np.dot(W.T,dZ)\n",
        "  \n",
        "  return dA_prev, dW, db"
      ],
      "metadata": {
        "id": "MHn_HyC77FwD"
      },
      "execution_count": null,
      "outputs": []
    },
    {
      "cell_type": "markdown",
      "source": [
        "Implementing the backward propagation for the Linear Activation layer."
      ],
      "metadata": {
        "id": "1a_agGkX7qhU"
      }
    },
    {
      "cell_type": "code",
      "source": [
        "# linear activation backward\n",
        "\n",
        "def linear_activation_backward(dA, cache, activation):\n",
        "    \n",
        "  linear_cache, activation_cache = cache\n",
        "    \n",
        "  if activation == \"relu\":\n",
        "    dZ = relu_backward(dA, activation_cache)\n",
        "    dA_prev, dW, db = linear_backward(dZ, linear_cache)\n",
        "\n",
        "  elif activation == \"sigmoid\": \n",
        "    dZ = sigmoid_backward(dA, activation_cache)\n",
        "    dA_prev, dW, db = linear_backward(dZ, linear_cache)\n",
        "    \n",
        "  return dA_prev, dW, db"
      ],
      "metadata": {
        "id": "cyHnw1mM70gw"
      },
      "execution_count": null,
      "outputs": []
    },
    {
      "cell_type": "markdown",
      "source": [
        "Implementing the backward function for the whole network"
      ],
      "metadata": {
        "id": "RjVzKn3Z8XyL"
      }
    },
    {
      "cell_type": "code",
      "source": [
        "# L layered model backward\n",
        "\n",
        "def L_model_backward(AL, Y, caches):\n",
        "   \n",
        "  grads = {}\n",
        "  L = len(caches)                     # the number of layers\n",
        "  m = AL.shape[1]\n",
        "  Y = Y.reshape(AL.shape)             # after this line, Y is the same shape as AL\n",
        "    \n",
        "  # Initializing the backpropagation\n",
        "  dAL = - (np.divide(Y, AL) - np.divide(1 - Y, 1 - AL))\n",
        " \n",
        "  # Lth layer (SIGMOID -> LINEAR) gradients. Inputs: \"dAL, current_cache\". Outputs: \"grads[\"dAL-1\"], grads[\"dWL\"], grads[\"dbL\"]\n",
        "  current_cache = caches[L-1] # Last Layer\n",
        "  dA_prev_temp, dW_temp, db_temp = linear_activation_backward(dAL, current_cache, activation = \"sigmoid\")\n",
        "  grads[\"dA\" + str(L-1)] = dA_prev_temp\n",
        "  grads[\"dW\" + str(L)] = dW_temp\n",
        "  grads[\"db\" + str(L)] =  db_temp\n",
        "    \n",
        "  # Loop from l=L-2 to l=0\n",
        "  for l in reversed(range(L-1)):\n",
        "    # lth layer: (RELU -> LINEAR) gradients.\n",
        "    # Inputs: \"grads[\"dA\" + str(l + 1)], current_cache\". Outputs: \"grads[\"dA\" + str(l)] , grads[\"dW\" + str(l + 1)] , grads[\"db\" + str(l + 1)] \n",
        "\n",
        "    current_cache = caches[l]\n",
        "    dA_prev_temp, dW_temp, db_temp = linear_activation_backward(grads[\"dA\" + str(l + 1)], current_cache, activation = \"relu\")\n",
        "    grads[\"dA\" + str(l)] = dA_prev_temp\n",
        "    grads[\"dW\" + str(l + 1)] = dW_temp\n",
        "    grads[\"db\" + str(l + 1)] = db_temp\n",
        " \n",
        "  return grads"
      ],
      "metadata": {
        "id": "sj7FMfDj8kEr"
      },
      "execution_count": null,
      "outputs": []
    },
    {
      "cell_type": "markdown",
      "source": [
        "Updating parameters using gradient descent"
      ],
      "metadata": {
        "id": "1MXexMiR9Ytf"
      }
    },
    {
      "cell_type": "code",
      "source": [
        "# updating parameters\n",
        "\n",
        "def update_parameters(params, grads, learning_rate):\n",
        "    \n",
        "  parameters = params.copy()\n",
        "  L = len(parameters) // 2              # number of layers in the neural network\n",
        "\n",
        "  # Update rule for each parameter. Using a for loop.\n",
        "  for l in range(L):\n",
        "    parameters[\"W\" + str(l+1)] = parameters[\"W\" + str(l+1)] - learning_rate * grads[\"dW\" + str(l+1)]\n",
        "    parameters[\"b\" + str(l+1)] = parameters[\"b\" + str(l+1)] - learning_rate * grads[\"db\" + str(l+1)]\n",
        "   \n",
        "  return parameters"
      ],
      "metadata": {
        "id": "-kYMvp8_9jA9"
      },
      "execution_count": null,
      "outputs": []
    },
    {
      "cell_type": "code",
      "source": [
        "# prediction\n",
        "\n",
        "def predict(X, y, parameters):\n",
        "\n",
        "  m = X.shape[1]\n",
        "  n = len(parameters) // 2      # number of layers in the neural network\n",
        "  p = np.zeros((1,m))\n",
        "    \n",
        "  # Forward propagation\n",
        "  probas, caches = L_model_forward(X, parameters)\n",
        "  \n",
        "  # converting probas to 0/1 predictions\n",
        "  for i in range(0, probas.shape[1]):\n",
        "    if probas[0,i] > 0.5:\n",
        "      p[0,i] = 1\n",
        "    else:\n",
        "      p[0,i] = 0\n",
        "    \n",
        "  #print results\n",
        "  #print (\"predictions: \" + str(p))\n",
        "  #print (\"true labels: \" + str(y))\n",
        "  print(f\"Accuracy is : {round(100*(np.sum((p == y)/m)), ndigits=2)} %\")\n",
        "        \n",
        "  return p"
      ],
      "metadata": {
        "id": "igON6L0RC1kd"
      },
      "execution_count": null,
      "outputs": []
    },
    {
      "cell_type": "markdown",
      "source": [
        "Final 2 layered model"
      ],
      "metadata": {
        "id": "Xg-oda13-14G"
      }
    },
    {
      "cell_type": "code",
      "source": [
        "# defining the constants\n",
        "\n",
        "n_x = 12288    \n",
        "n_h = 7\n",
        "n_y = 1\n",
        "layers_dims = (n_x, n_h, n_y)\n",
        "learning_rate = 0.0075"
      ],
      "metadata": {
        "id": "fmUI7EE9-0Ew"
      },
      "execution_count": null,
      "outputs": []
    },
    {
      "cell_type": "code",
      "source": [
        "# 2 layered model\n",
        "\n",
        "def two_layer_model(X, Y, layers_dims, learning_rate , num_iterations , print_cost=False):\n",
        "   \n",
        "  grads = {}\n",
        "  costs = []                               # to keep track of the cost\n",
        "  m = X.shape[1]                           # number of examples\n",
        "  (n_x, n_h, n_y) = layers_dims\n",
        "    \n",
        "  # initializing parameters dictionary\n",
        "  parameters = initialize_parameters(n_x, n_h, n_y)\n",
        "      \n",
        "  # getting W1, b1, W2 and b2 from the dictionary parameters.\n",
        "  W1 = parameters[\"W1\"]\n",
        "  b1 = parameters[\"b1\"]\n",
        "  W2 = parameters[\"W2\"]\n",
        "  b2 = parameters[\"b2\"]\n",
        "    \n",
        "  # loop (gradient descent)\n",
        "  for i in range(0, num_iterations):\n",
        "\n",
        "    A1, cache1 = linear_activation_forward(X, W1, b1, activation=\"relu\")\n",
        "    A2, cache2 = linear_activation_forward(A1, W2, b2, activation=\"sigmoid\")\n",
        "        \n",
        "    # computing cost\n",
        "    cost = compute_cost(A2, Y)\n",
        "        \n",
        "    # initializing backward propagation\n",
        "    dA2 = - (np.divide(Y, A2) - np.divide(1 - Y, 1 - A2))\n",
        "        \n",
        "    # backward propagation\n",
        "    dA1, dW2, db2 = linear_activation_backward(dA2, cache2, activation=\"sigmoid\")\n",
        "    dA0, dW1, db1 = linear_activation_backward(dA1, cache1, activation=\"relu\")\n",
        "        \n",
        "    # setting grads['dWl'] to dW1, grads['db1'] to db1, grads['dW2'] to dW2, grads['db2'] to db2\n",
        "    grads['dW1'] = dW1\n",
        "    grads['db1'] = db1\n",
        "    grads['dW2'] = dW2\n",
        "    grads['db2'] = db2\n",
        "        \n",
        "    # updating parameters\n",
        "    parameters = update_parameters(parameters, grads, learning_rate)\n",
        "\n",
        "    # retrieving W1, b1, W2, b2 from parameters\n",
        "    W1 = parameters[\"W1\"]\n",
        "    b1 = parameters[\"b1\"]\n",
        "    W2 = parameters[\"W2\"]\n",
        "    b2 = parameters[\"b2\"]\n",
        "        \n",
        "    # Printing the cost every 100 iterations\n",
        "    if print_cost and i % 100 == 0 or i == num_iterations - 1:\n",
        "      print(f\"Cost after iteration {i}: {np.squeeze(cost)}\")\n",
        "    if i % 100 == 0 or i == num_iterations:\n",
        "      costs.append(cost)\n",
        "\n",
        "  return parameters, costs\n",
        "\n",
        "def plot_costs(costs, learning_rate):\n",
        "  plt.plot(np.squeeze(costs))\n",
        "  plt.ylabel(\"cost\")\n",
        "  plt.xlabel(\"iterations (per hundreds)\")\n",
        "  plt.title(\"Learning rate =\" + str(learning_rate))\n",
        "  plt.show()"
      ],
      "metadata": {
        "id": "4BmCv_Gw_RB0"
      },
      "execution_count": null,
      "outputs": []
    },
    {
      "cell_type": "markdown",
      "source": [
        "Training the model"
      ],
      "metadata": {
        "id": "3wvLedOHBhSy"
      }
    },
    {
      "cell_type": "code",
      "source": [
        "parameters, costs = two_layer_model(train_x, train_y, layers_dims = (n_x, n_h, n_y), learning_rate = 0.0075, num_iterations = 2500, print_cost=True)\n"
      ],
      "metadata": {
        "colab": {
          "base_uri": "https://localhost:8080/"
        },
        "id": "lbIe8cUzBZM3",
        "outputId": "ca0e78d2-1129-4337-bc53-1ae2580fd747"
      },
      "execution_count": null,
      "outputs": [
        {
          "output_type": "stream",
          "name": "stdout",
          "text": [
            "Cost after iteration 0: 0.6950227869499688\n",
            "Cost after iteration 100: 0.6461404817760741\n",
            "Cost after iteration 200: 0.6327095141206671\n",
            "Cost after iteration 300: 0.6037476683755487\n",
            "Cost after iteration 400: 0.5645558719194408\n",
            "Cost after iteration 500: 0.5196973601316633\n",
            "Cost after iteration 600: 0.4641571463979747\n",
            "Cost after iteration 700: 0.40622861249150904\n",
            "Cost after iteration 800: 0.4041585687234438\n",
            "Cost after iteration 900: 0.3712835709635514\n",
            "Cost after iteration 1000: 0.3327845391379971\n",
            "Cost after iteration 1100: 0.30873127955868324\n",
            "Cost after iteration 1200: 0.2660322516976252\n",
            "Cost after iteration 1300: 0.22517024252231635\n",
            "Cost after iteration 1400: 0.1591171129274329\n",
            "Cost after iteration 1500: 0.1304835059028286\n",
            "Cost after iteration 1600: 0.1224826407035477\n",
            "Cost after iteration 1700: 0.09880739975511191\n",
            "Cost after iteration 1800: 0.08377646982075555\n",
            "Cost after iteration 1900: 0.07528520179147943\n",
            "Cost after iteration 2000: 0.06267221583555388\n",
            "Cost after iteration 2100: 0.05439811444296729\n",
            "Cost after iteration 2200: 0.04821577804870093\n",
            "Cost after iteration 2300: 0.042694912967231734\n",
            "Cost after iteration 2400: 0.038357853858069\n",
            "Cost after iteration 2499: 0.0343920405843468\n"
          ]
        }
      ]
    },
    {
      "cell_type": "code",
      "source": [
        "plot_costs(costs, learning_rate = 0.0075)"
      ],
      "metadata": {
        "colab": {
          "base_uri": "https://localhost:8080/",
          "height": 295
        },
        "id": "CXnWV1HXy8A4",
        "outputId": "f81721bf-db19-4c9d-af73-c809ffe7eb63"
      },
      "execution_count": null,
      "outputs": [
        {
          "output_type": "display_data",
          "data": {
            "image/png": "[encoded data removed]",
            "text/plain": [
              "<Figure size 432x288 with 1 Axes>"
            ]
          },
          "metadata": {
            "needs_background": "light"
          }
        }
      ]
    },
    {
      "cell_type": "code",
      "source": [
        "predictions_train = predict(train_x, train_y, parameters)"
      ],
      "metadata": {
        "colab": {
          "base_uri": "https://localhost:8080/"
        },
        "id": "7210ybJnB2gf",
        "outputId": "df8102f9-3d9f-4c7b-8c15-048a4752848a"
      },
      "execution_count": null,
      "outputs": [
        {
          "output_type": "stream",
          "name": "stdout",
          "text": [
            "Accuracy is : 100.0 %\n"
          ]
        }
      ]
    },
    {
      "cell_type": "code",
      "source": [
        "predictions_test = predict(test_x, test_y, parameters)"
      ],
      "metadata": {
        "colab": {
          "base_uri": "https://localhost:8080/"
        },
        "id": "g6zBuo6eE6nH",
        "outputId": "dd0ddec5-cce1-4e2b-cb0a-d55e5b606ef7"
      },
      "execution_count": null,
      "outputs": [
        {
          "output_type": "stream",
          "name": "stdout",
          "text": [
            "Accuracy is : 68.0 %\n"
          ]
        }
      ]
    },
    {
      "cell_type": "markdown",
      "source": [
        "Final L layered model"
      ],
      "metadata": {
        "id": "hDBguNM7FNa1"
      }
    },
    {
      "cell_type": "code",
      "source": [
        "# defining the constants\n",
        "layers_dims = [12288, 20, 7, 5, 1]        #  4 layered model\n",
        "\n",
        "print(len(layers_dims))"
      ],
      "metadata": {
        "colab": {
          "base_uri": "https://localhost:8080/"
        },
        "id": "ZHbupuKsFP7s",
        "outputId": "ad83d016-35eb-4796-8912-9e63b204e63f"
      },
      "execution_count": null,
      "outputs": [
        {
          "output_type": "stream",
          "name": "stdout",
          "text": [
            "5\n"
          ]
        }
      ]
    },
    {
      "cell_type": "code",
      "source": [
        "# L layer model\n",
        "\n",
        "def L_layer_model(X, Y, layers_dims, learning_rate , num_iterations , print_cost=False):\n",
        "   \n",
        "  costs = []                         # keep track of cost\n",
        "    \n",
        "  # Parameters initialization.\n",
        "  parameters = initialize_parameters_deep(layers_dims)\n",
        "        \n",
        "  # Loop (gradient descent)\n",
        "  for i in range(0, num_iterations):\n",
        "\n",
        "    # Forward propagation: \n",
        "    AL, caches = L_model_forward(X, parameters)\n",
        "         \n",
        "    # Compute cost.\n",
        "    cost = compute_cost(AL, Y)\n",
        "    \n",
        "    # Backward propagation. \n",
        "    grads = L_model_backward(AL, Y, caches)\n",
        " \n",
        "    # Update parameters.\n",
        "    parameters = update_parameters(parameters, grads, learning_rate)\n",
        "        \n",
        "    # Print the cost every 100 iterations\n",
        "    if print_cost and i % 100 == 0 or i == num_iterations - 1:\n",
        "      print(f\"Cost after iteration {i}: {np.squeeze(cost)}\")\n",
        "    if i % 100 == 0 or i == num_iterations:\n",
        "      costs.append(cost)\n",
        "    \n",
        "  return parameters, costs"
      ],
      "metadata": {
        "id": "8yGM2m_WFa9z"
      },
      "execution_count": null,
      "outputs": []
    },
    {
      "cell_type": "markdown",
      "source": [
        "Training the model"
      ],
      "metadata": {
        "id": "OvJJ9UWuGefG"
      }
    },
    {
      "cell_type": "code",
      "source": [
        "# training the model\n",
        "parameters, costs = L_layer_model(train_x, train_y, layers_dims,learning_rate = 0.0075, num_iterations = 2500, print_cost = True)"
      ],
      "metadata": {
        "colab": {
          "base_uri": "https://localhost:8080/"
        },
        "id": "gIQ37DXSGYwx",
        "outputId": "e978dae5-b724-49c4-befc-d44181d51f43"
      },
      "execution_count": null,
      "outputs": [
        {
          "output_type": "stream",
          "name": "stdout",
          "text": [
            "Cost after iteration 0: 0.6955154408898924\n",
            "Cost after iteration 100: 0.6281758974267465\n",
            "Cost after iteration 200: 0.587375668065058\n",
            "Cost after iteration 300: 0.5301484619481512\n",
            "Cost after iteration 400: 0.45250008216782034\n",
            "Cost after iteration 500: 0.38367801803484125\n",
            "Cost after iteration 600: 0.32284502194195536\n",
            "Cost after iteration 700: 0.2765818178306489\n",
            "Cost after iteration 800: 0.21030211275971525\n",
            "Cost after iteration 900: 0.12746249407605803\n",
            "Cost after iteration 1000: 0.1908904223937338\n",
            "Cost after iteration 1100: 0.04829661923713242\n",
            "Cost after iteration 1200: 0.032806350180274196\n",
            "Cost after iteration 1300: 0.024090019530306785\n",
            "Cost after iteration 1400: 0.01861993794642625\n",
            "Cost after iteration 1500: 0.014815180903994881\n",
            "Cost after iteration 1600: 0.012134230253724001\n",
            "Cost after iteration 1700: 0.010174374236167077\n",
            "Cost after iteration 1800: 0.008688301502409738\n",
            "Cost after iteration 1900: 0.007546214239306414\n",
            "Cost after iteration 2000: 0.006620612494796732\n",
            "Cost after iteration 2100: 0.005876950479401188\n",
            "Cost after iteration 2200: 0.005258597626534726\n",
            "Cost after iteration 2300: 0.004745093620509768\n",
            "Cost after iteration 2400: 0.004313084482114497\n",
            "Cost after iteration 2499: 0.0039492944226642126\n"
          ]
        }
      ]
    },
    {
      "cell_type": "code",
      "source": [
        "plot_costs(costs, learning_rate = 0.0075)"
      ],
      "metadata": {
        "colab": {
          "base_uri": "https://localhost:8080/",
          "height": 295
        },
        "id": "Xoj3AJjN0pI_",
        "outputId": "9eac0af0-9cd2-4ce0-f0f6-14f044c31a66"
      },
      "execution_count": null,
      "outputs": [
        {
          "output_type": "display_data",
          "data": {
            "image/png": "[encoded data removed]",
            "text/plain": [
              "<Figure size 432x288 with 1 Axes>"
            ]
          },
          "metadata": {
            "needs_background": "light"
          }
        }
      ]
    },
    {
      "cell_type": "code",
      "source": [
        "pred_train = predict(train_x, train_y, parameters)"
      ],
      "metadata": {
        "colab": {
          "base_uri": "https://localhost:8080/"
        },
        "id": "Vdkd_c8_HMcq",
        "outputId": "220ffe34-8978-4321-d08c-ad221e3d2a69"
      },
      "execution_count": null,
      "outputs": [
        {
          "output_type": "stream",
          "name": "stdout",
          "text": [
            "Accuracy is : 100.0 %\n"
          ]
        }
      ]
    },
    {
      "cell_type": "code",
      "source": [
        "pred_test = predict(test_x, test_y, parameters)"
      ],
      "metadata": {
        "colab": {
          "base_uri": "https://localhost:8080/"
        },
        "id": "8WtAJqzdHWQN",
        "outputId": "126f6668-1230-416f-9b76-5affa1b584f9"
      },
      "execution_count": null,
      "outputs": [
        {
          "output_type": "stream",
          "name": "stdout",
          "text": [
            "Accuracy is : 78.0 %\n"
          ]
        }
      ]
    }
  ]
}