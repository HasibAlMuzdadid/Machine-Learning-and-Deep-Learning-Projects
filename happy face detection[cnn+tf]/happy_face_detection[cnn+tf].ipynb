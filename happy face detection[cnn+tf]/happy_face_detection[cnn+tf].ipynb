{
  "nbformat": 4,
  "nbformat_minor": 0,
  "metadata": {
    "colab": {
      "name": "happy face detection[cnn+tf].ipynb",
      "provenance": [],
      "collapsed_sections": [],
      "authorship_tag": "ABX9TyMmpm7XZMn9ojHlvVHSKiOX",
      "include_colab_link": true
    },
    "kernelspec": {
      "name": "python3",
      "display_name": "Python 3"
    },
    "language_info": {
      "name": "python"
    }
  },
  "cells": [
    {
      "cell_type": "markdown",
      "metadata": {
        "id": "view-in-github",
        "colab_type": "text"
      },
      "source": [
        "<a href=\"https://colab.research.google.com/github/HasibAlMuzdadid/Machine-Learning-and-Deep-Learning-Projects/blob/main/happy%20face%20detection%5Bcnn%2Btf%5D/happy_face_detection%5Bcnn%2Btf%5D.ipynb\" target=\"_parent\"><img src=\"https://colab.research.google.com/assets/colab-badge.svg\" alt=\"Open In Colab\"/></a>"
      ]
    },
    {
      "cell_type": "markdown",
      "source": [
        "**Happy Face Detector**"
      ],
      "metadata": {
        "id": "lJV4F4672BOb"
      }
    },
    {
      "cell_type": "markdown",
      "source": [
        "We'll be using the Happy House dataset which contains images of peoples' faces. Our task will be to build a ConvNet that determines whether the people in the images are smiling or not, because they only get to enter the house if they're smiling!"
      ],
      "metadata": {
        "id": "22C6T3Uurbpg"
      }
    },
    {
      "cell_type": "code",
      "execution_count": null,
      "metadata": {
        "id": "0VhyxSZTrJO4"
      },
      "outputs": [],
      "source": [
        "import numpy as np\n",
        "import pandas as pd\n",
        "import h5py\n",
        "import matplotlib.pyplot as plt\n",
        "import tensorflow as tf\n",
        "import tensorflow.keras.layers as tfl"
      ]
    },
    {
      "cell_type": "code",
      "source": [
        "tf.__version__"
      ],
      "metadata": {
        "colab": {
          "base_uri": "https://localhost:8080/",
          "height": 35
        },
        "id": "Ff4oVlvhvjaq",
        "outputId": "acaed9fd-7e1a-44ff-900a-7016f2cb1818"
      },
      "execution_count": null,
      "outputs": [
        {
          "output_type": "execute_result",
          "data": {
            "text/plain": [
              "'2.8.0'"
            ],
            "application/vnd.google.colaboratory.intrinsic+json": {
              "type": "string"
            }
          },
          "metadata": {},
          "execution_count": 2
        }
      ]
    },
    {
      "cell_type": "code",
      "source": [
        "def load_happy_dataset():\n",
        "    train_dataset = h5py.File(\"train_happy.h5\", \"r\")\n",
        "    train_set_x_orig = np.array(train_dataset[\"train_set_x\"][:]) # train set features\n",
        "    train_set_y_orig = np.array(train_dataset[\"train_set_y\"][:]) # train set labels\n",
        "\n",
        "    test_dataset = h5py.File(\"test_happy.h5\", \"r\")\n",
        "    test_set_x_orig = np.array(test_dataset[\"test_set_x\"][:]) # test set features\n",
        "    test_set_y_orig = np.array(test_dataset[\"test_set_y\"][:]) # test set labels\n",
        "\n",
        "    classes = np.array(test_dataset[\"list_classes\"][:]) # the list of classes\n",
        "    \n",
        "    train_set_y_orig = train_set_y_orig.reshape((1, train_set_y_orig.shape[0]))\n",
        "    test_set_y_orig = test_set_y_orig.reshape((1, test_set_y_orig.shape[0]))\n",
        "    \n",
        "    \n",
        "    return train_set_x_orig, train_set_y_orig, test_set_x_orig, test_set_y_orig, classes"
      ],
      "metadata": {
        "id": "2Fxi6JbQsyDf"
      },
      "execution_count": null,
      "outputs": []
    },
    {
      "cell_type": "code",
      "source": [
        "X_train_orig, Y_train_orig, X_test_orig, Y_test_orig, classes = load_happy_dataset()\n",
        "\n",
        "# Normalize image vectors\n",
        "X_train = X_train_orig/255.\n",
        "X_test = X_test_orig/255.\n",
        "\n",
        "# Reshape\n",
        "Y_train = Y_train_orig.T\n",
        "Y_test = Y_test_orig.T\n",
        "\n",
        "print (f\"number of training examples = {X_train.shape[0]}\")\n",
        "print (f\"number of test examples = {X_test.shape[0]}\")\n",
        "print (f\"X_train shape = {X_train.shape}\")\n",
        "print (f\"Y_train shape = {Y_train.shape}\")\n",
        "print (f\"X_test shape = {X_test.shape}\")\n",
        "print (f\"Y_test shape = {Y_test.shape}\")"
      ],
      "metadata": {
        "colab": {
          "base_uri": "https://localhost:8080/"
        },
        "id": "ZmBfIBoCryXr",
        "outputId": "fdb780f2-7e43-495f-afed-190339f3bf54"
      },
      "execution_count": null,
      "outputs": [
        {
          "output_type": "stream",
          "name": "stdout",
          "text": [
            "number of training examples = 600\n",
            "number of test examples = 150\n",
            "X_train shape = (600, 64, 64, 3)\n",
            "Y_train shape = (600, 1)\n",
            "X_test shape = (150, 64, 64, 3)\n",
            "Y_test shape = (150, 1)\n"
          ]
        }
      ]
    },
    {
      "cell_type": "code",
      "source": [
        "#display sample training image\n",
        "index = 124\n",
        "plt.imshow(X_train_orig[index]) \n",
        "plt.show()"
      ],
      "metadata": {
        "colab": {
          "base_uri": "https://localhost:8080/",
          "height": 268
        },
        "id": "KUsmkWaKwao0",
        "outputId": "cb07b271-1d36-4bb5-9bd1-bbc2563ed0fa"
      },
      "execution_count": null,
      "outputs": [
        {
          "output_type": "display_data",
          "data": {
            "text/plain": [
              "<Figure size 432x288 with 1 Axes>"
            ],
            "image/png": "[encoded data removed]"
          },
          "metadata": {
            "needs_background": "light"
          }
        }
      ]
    },
    {
      "cell_type": "markdown",
      "source": [
        "Implementing the `happyModel` function below to build the following model: \n",
        "\n",
        "`ZEROPAD2D -> CONV2D -> BATCHNORM -> RELU -> MAXPOOL -> FLATTEN -> DENSE`. \n",
        "\n",
        "Also, plugging in the following parameters for all the steps:\n",
        "\n",
        " - [ZeroPadding2D](https://www.tensorflow.org/api_docs/python/tf/keras/layers/ZeroPadding2D): padding 3, input shape 64 x 64 x 3\n",
        " - [Conv2D](https://www.tensorflow.org/api_docs/python/tf/keras/layers/Conv2D): Use 32 7x7 filters, stride 1\n",
        " - [BatchNormalization](https://www.tensorflow.org/api_docs/python/tf/keras/layers/BatchNormalization): for axis 3\n",
        " - [ReLU](https://www.tensorflow.org/api_docs/python/tf/keras/layers/ReLU)\n",
        " - [MaxPool2D](https://www.tensorflow.org/api_docs/python/tf/keras/layers/MaxPool2D): Using default parameters\n",
        " - [Flatten](https://www.tensorflow.org/api_docs/python/tf/keras/layers/Flatten) the previous output.\n",
        " - Fully-connected ([Dense](https://www.tensorflow.org/api_docs/python/tf/keras/layers/Dense)) layer: Apply a fully connected layer with 1 neuron and a sigmoid activation. \n",
        " "
      ],
      "metadata": {
        "id": "UGFfr_2YwzED"
      }
    },
    {
      "cell_type": "code",
      "source": [
        "def happyModel():\n",
        "  \n",
        "  model = tf.keras.Sequential([\n",
        "                               tf.keras.Input(shape = (64 , 64 ,3)),\n",
        "\n",
        "                               ## ZeroPadding2D with padding 3, input shape of 64 x 64 x 3\n",
        "                               tfl.ZeroPadding2D(padding = 3), \n",
        "\n",
        "                               ## Conv2D with 32 7x7 filters and stride of 1\n",
        "                               tfl.Conv2D(filters = 32, kernel_size = 7, strides = 1),\n",
        "\n",
        "                               ## BatchNormalization for axis 3\n",
        "                               tfl.BatchNormalization(axis = 3, momentum = 0.99, epsilon = 0.001),\n",
        "\n",
        "                               ## ReLU\n",
        "                               tfl.ReLU(),\n",
        "\n",
        "                               ## Max Pooling 2D with default parameters\n",
        "                               tfl.MaxPool2D(),\n",
        "\n",
        "                               ## Flatten layer\n",
        "                               tfl.Flatten(),\n",
        "\n",
        "                               ## Dense layer with 1 unit for output & 'sigmoid' activation\n",
        "                               tfl.Dense(1,activation = \"sigmoid\")\n",
        "                        \n",
        "                               ])\n",
        "    \n",
        "  return model"
      ],
      "metadata": {
        "id": "nur5PRftxDSq"
      },
      "execution_count": null,
      "outputs": []
    },
    {
      "cell_type": "code",
      "source": [
        "happy_model = happyModel()"
      ],
      "metadata": {
        "id": "ZtNClJEuzyrj"
      },
      "execution_count": null,
      "outputs": []
    },
    {
      "cell_type": "markdown",
      "source": [
        "Our model is created, we can compile it for training with an optimizer and loss of our choice. When the string `accuracy` is specified as a metric, the type of accuracy used will be automatically converted based on the loss function used. This is one of the many optimizations built into TensorFlow that make our life easier!"
      ],
      "metadata": {
        "id": "Oc3w_dyQyirV"
      }
    },
    {
      "cell_type": "code",
      "source": [
        "happy_model.compile(optimizer=\"adam\",\n",
        "                   loss=\"binary_crossentropy\",\n",
        "                   metrics=[\"accuracy\"])"
      ],
      "metadata": {
        "id": "vrqWe_5eywdf"
      },
      "execution_count": null,
      "outputs": []
    },
    {
      "cell_type": "code",
      "source": [
        "happy_model.summary()"
      ],
      "metadata": {
        "colab": {
          "base_uri": "https://localhost:8080/"
        },
        "id": "MeOKt5ba0jll",
        "outputId": "664258b9-a0ab-4f52-cc04-29e6d84b79c9"
      },
      "execution_count": null,
      "outputs": [
        {
          "output_type": "stream",
          "name": "stdout",
          "text": [
            "Model: \"sequential\"\n",
            "_________________________________________________________________\n",
            " Layer (type)                Output Shape              Param #   \n",
            "=================================================================\n",
            " zero_padding2d (ZeroPadding  (None, 70, 70, 3)        0         \n",
            " 2D)                                                             \n",
            "                                                                 \n",
            " conv2d (Conv2D)             (None, 64, 64, 32)        4736      \n",
            "                                                                 \n",
            " batch_normalization (BatchN  (None, 64, 64, 32)       128       \n",
            " ormalization)                                                   \n",
            "                                                                 \n",
            " re_lu (ReLU)                (None, 64, 64, 32)        0         \n",
            "                                                                 \n",
            " max_pooling2d (MaxPooling2D  (None, 32, 32, 32)       0         \n",
            " )                                                               \n",
            "                                                                 \n",
            " flatten (Flatten)           (None, 32768)             0         \n",
            "                                                                 \n",
            " dense (Dense)               (None, 1)                 32769     \n",
            "                                                                 \n",
            "=================================================================\n",
            "Total params: 37,633\n",
            "Trainable params: 37,569\n",
            "Non-trainable params: 64\n",
            "_________________________________________________________________\n"
          ]
        }
      ]
    },
    {
      "cell_type": "markdown",
      "source": [
        "**Train and Evaluate The Model**"
      ],
      "metadata": {
        "id": "UGQvN2Hc0yht"
      }
    },
    {
      "cell_type": "code",
      "source": [
        "happy_model.fit(X_train, Y_train, epochs=10, batch_size=16)"
      ],
      "metadata": {
        "colab": {
          "base_uri": "https://localhost:8080/"
        },
        "id": "xe9uDUFB1BZW",
        "outputId": "5ea8b519-34fd-45eb-dd42-48f4775e10ca"
      },
      "execution_count": null,
      "outputs": [
        {
          "output_type": "stream",
          "name": "stdout",
          "text": [
            "Epoch 1/10\n",
            "38/38 [==============================] - 7s 166ms/step - loss: 1.1152 - accuracy: 0.7250\n",
            "Epoch 2/10\n",
            "38/38 [==============================] - 8s 212ms/step - loss: 0.2516 - accuracy: 0.9000\n",
            "Epoch 3/10\n",
            "38/38 [==============================] - 4s 105ms/step - loss: 0.2812 - accuracy: 0.8933\n",
            "Epoch 4/10\n",
            "38/38 [==============================] - 4s 105ms/step - loss: 0.1181 - accuracy: 0.9467\n",
            "Epoch 5/10\n",
            "38/38 [==============================] - 4s 105ms/step - loss: 0.1218 - accuracy: 0.9517\n",
            "Epoch 6/10\n",
            "38/38 [==============================] - 4s 104ms/step - loss: 0.1558 - accuracy: 0.9433\n",
            "Epoch 7/10\n",
            "38/38 [==============================] - 4s 104ms/step - loss: 0.0895 - accuracy: 0.9717\n",
            "Epoch 8/10\n",
            "38/38 [==============================] - 4s 105ms/step - loss: 0.0660 - accuracy: 0.9817\n",
            "Epoch 9/10\n",
            "38/38 [==============================] - 4s 104ms/step - loss: 0.0732 - accuracy: 0.9733\n",
            "Epoch 10/10\n",
            "38/38 [==============================] - 4s 103ms/step - loss: 0.0938 - accuracy: 0.9600\n"
          ]
        },
        {
          "output_type": "execute_result",
          "data": {
            "text/plain": [
              "<keras.callbacks.History at 0x7fa0ec4a43d0>"
            ]
          },
          "metadata": {},
          "execution_count": 10
        }
      ]
    },
    {
      "cell_type": "markdown",
      "source": [
        "Using `.evaluate()` to evaluate against our test set. This function will print the value of the loss function and the performance metrics specified during the compilation of the model. In this case, the `binary_crossentropy` and the `accuracy` respectively."
      ],
      "metadata": {
        "id": "5YND8sfa1sSj"
      }
    },
    {
      "cell_type": "code",
      "source": [
        "happy_model.evaluate(X_test, Y_test)"
      ],
      "metadata": {
        "colab": {
          "base_uri": "https://localhost:8080/"
        },
        "id": "TipjaTPR1hot",
        "outputId": "b73d7cb6-c24e-49dc-e8b6-28c58253923a"
      },
      "execution_count": null,
      "outputs": [
        {
          "output_type": "stream",
          "name": "stdout",
          "text": [
            "5/5 [==============================] - 0s 55ms/step - loss: 0.1148 - accuracy: 0.9533\n"
          ]
        },
        {
          "output_type": "execute_result",
          "data": {
            "text/plain": [
              "[0.1147533655166626, 0.95333331823349]"
            ]
          },
          "metadata": {},
          "execution_count": 11
        }
      ]
    }
  ]
}