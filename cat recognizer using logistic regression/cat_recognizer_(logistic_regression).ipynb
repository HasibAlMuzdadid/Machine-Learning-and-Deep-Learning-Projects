{
  "nbformat": 4,
  "nbformat_minor": 0,
  "metadata": {
    "colab": {
      "name": "cat recognizer (logistic regression).ipynb",
      "provenance": [],
      "collapsed_sections": [],
      "authorship_tag": "ABX9TyMhXTkFYhU8uWi+O1mGggAk",
      "include_colab_link": true
    },
    "kernelspec": {
      "name": "python3",
      "display_name": "Python 3"
    },
    "language_info": {
      "name": "python"
    }
  },
  "cells": [
    {
      "cell_type": "markdown",
      "metadata": {
        "id": "view-in-github",
        "colab_type": "text"
      },
      "source": [
        "<a href=\"https://colab.research.google.com/github/HasibAlMuzdadid/Machine-Learning-and-Deep-Learning-Projects/blob/main/cat%20recognizer%20using%20logistic%20regression/cat_recognizer_(logistic_regression).ipynb\" target=\"_parent\"><img src=\"https://colab.research.google.com/assets/colab-badge.svg\" alt=\"Open In Colab\"/></a>"
      ]
    },
    {
      "cell_type": "markdown",
      "source": [
        "**Cat Recognizer using Logistic Regression classifier**"
      ],
      "metadata": {
        "id": "p7n1CRVG8ZuK"
      }
    },
    {
      "cell_type": "code",
      "source": [
        "import numpy as np\n",
        "import matplotlib.pyplot as plt\n",
        "import h5py                # for interacting with a dataset that is stored on an H5 file"
      ],
      "metadata": {
        "id": "emNKsonZ8mLC"
      },
      "execution_count": null,
      "outputs": []
    },
    {
      "cell_type": "code",
      "source": [
        "def load_dataset():\n",
        "    train_dataset = h5py.File('train_catvnoncat.h5', \"r\")\n",
        "    train_set_x_orig = np.array(train_dataset[\"train_set_x\"][:]) # your train set features\n",
        "    train_set_y_orig = np.array(train_dataset[\"train_set_y\"][:]) # your train set labels\n",
        "\n",
        "    test_dataset = h5py.File('test_catvnoncat.h5', \"r\")\n",
        "    test_set_x_orig = np.array(test_dataset[\"test_set_x\"][:]) # your test set features\n",
        "    test_set_y_orig = np.array(test_dataset[\"test_set_y\"][:]) # your test set labels\n",
        "\n",
        "    classes = np.array(test_dataset[\"list_classes\"][:]) # the list of classes\n",
        "    \n",
        "    train_set_y_orig = train_set_y_orig.reshape((1, train_set_y_orig.shape[0]))\n",
        "    test_set_y_orig = test_set_y_orig.reshape((1, test_set_y_orig.shape[0]))\n",
        "    \n",
        "    return train_set_x_orig, train_set_y_orig, test_set_x_orig, test_set_y_orig, classes"
      ],
      "metadata": {
        "id": "H3bcam8VWsTM"
      },
      "execution_count": null,
      "outputs": []
    },
    {
      "cell_type": "code",
      "source": [
        "# Loading the data (cat/non-cat)\n",
        "train_set_x_orig, train_set_y, test_set_x_orig, test_set_y, classes = load_dataset()"
      ],
      "metadata": {
        "id": "FoEgx_hxWv-O"
      },
      "execution_count": null,
      "outputs": []
    },
    {
      "cell_type": "markdown",
      "source": [
        "train_set_x_orig is a numpy-array of shape (m_train, num_px, num_px, 3)\n",
        "\n",
        "where, \n",
        "\n",
        "* m_train (number of training examples)\n",
        "* m_test (number of test examples)\n",
        "* num_px (height, width of a training image)\n",
        "\n",
        "\n",
        "\n",
        "\n"
      ],
      "metadata": {
        "id": "-ziH5IhAkln0"
      }
    },
    {
      "cell_type": "code",
      "source": [
        "print(f\"Train Set[Features] Shape: {train_set_x_orig.shape}\")\n",
        "print(f\"Test Set[Features] Shape: {test_set_x_orig.shape}\")\n",
        "print(f\"Train Set[Labels] Shape: {train_set_y.shape}\")\n",
        "print(f\"Test Set[Labels] Shape: {test_set_y.shape}\")\n",
        "print(f\"Number of training examples: {train_set_x_orig.shape[0]}\")\n",
        "print(f\"Number of testing examples: {test_set_y.shape[0]}\")\n",
        "print(f\"Height/Width of each image: {train_set_x_orig.shape[1]}\")\n",
        "print(f\"Each image is of size: ({train_set_x_orig.shape[1]}, {train_set_x_orig.shape[2]}, {train_set_x_orig.shape[3]})\")"
      ],
      "metadata": {
        "colab": {
          "base_uri": "https://localhost:8080/"
        },
        "id": "phpZ51phXcgD",
        "outputId": "7fe02a1a-1eac-43a7-f266-0eccc53805c3"
      },
      "execution_count": null,
      "outputs": [
        {
          "output_type": "stream",
          "name": "stdout",
          "text": [
            "Train Set[Features] Shape: (209, 64, 64, 3)\n",
            "Test Set[Features] Shape: (50, 64, 64, 3)\n",
            "Train Set[Labels] Shape: (1, 209)\n",
            "Test Set[Labels] Shape: (1, 50)\n",
            "Number of training examples: 209\n",
            "Number of testing examples: 1\n",
            "Height/Width of each image: 64\n",
            "Each image is of size: (64, 64, 3)\n"
          ]
        }
      ]
    },
    {
      "cell_type": "markdown",
      "source": [
        "Each line of train_set_x_orig and test_set_x_orig is an array representing an image. One can visualize an example by running the following code by changing the value of 'index'"
      ],
      "metadata": {
        "id": "MGeLBIV6ZZt4"
      }
    },
    {
      "cell_type": "code",
      "source": [
        "# Example of a picture\n",
        "index = 11\n",
        "plt.imshow(train_set_x_orig[index])\n",
        "plt.show()"
      ],
      "metadata": {
        "colab": {
          "base_uri": "https://localhost:8080/",
          "height": 268
        },
        "id": "2vt6DsVvZXN6",
        "outputId": "575ee98f-2766-4b3e-948a-e7dd92b77cc2"
      },
      "execution_count": null,
      "outputs": [
        {
          "output_type": "display_data",
          "data": {
            "image/png": "[encoded data removed]",
            "text/plain": [
              "<Figure size 432x288 with 1 Axes>"
            ]
          },
          "metadata": {
            "needs_background": "light"
          }
        }
      ]
    },
    {
      "cell_type": "markdown",
      "source": [
        "**Reshape the training and test data sets so that images of size (num_px, num_px, 3) are flattened into single vectors of shape (num_px  ∗  num_px  ∗  3, 1).**\n",
        "\n",
        "A trick when you want to flatten a matrix X of shape (a,b,c,d) to a matrix X_flatten of shape (b ∗ c ∗ d, a) is to use:\n",
        "\n",
        "X_flatten = X.reshape(X.shape[0], -1).T \n",
        "        \n",
        "*X.T is the transpose of X*"
      ],
      "metadata": {
        "id": "50ExF6FrmsPY"
      }
    },
    {
      "cell_type": "code",
      "source": [
        "# Reshape the training and test examples\n",
        "train_set_x_flatten=train_set_x_orig.reshape(train_set_x_orig.shape[0], -1).T\n",
        "test_set_x_flatten=test_set_x_orig.reshape(test_set_x_orig.shape[0], -1).T\n",
        "\n",
        "\n",
        "print(f\"Train Set[Features] shape: {(train_set_x_flatten.shape)}\")\n",
        "print(f\"Train Set[Labels] shape: {(train_set_y.shape)}\")\n",
        "print(f\"Test Set[Features] shape: {(test_set_x_flatten.shape)}\")\n",
        "print(f\"Test Set[Labels] shape: {(test_set_y.shape)}\")"
      ],
      "metadata": {
        "colab": {
          "base_uri": "https://localhost:8080/"
        },
        "id": "kpSXBe4sjghe",
        "outputId": "0ecaa69d-28fe-484d-8e7c-ee0a382b34fe"
      },
      "execution_count": null,
      "outputs": [
        {
          "output_type": "stream",
          "name": "stdout",
          "text": [
            "Train Set[Features] shape: (12288, 209)\n",
            "Train Set[Labels] shape: (1, 209)\n",
            "Test Set[Features] shape: (12288, 50)\n",
            "Test Set[Labels] shape: (1, 50)\n"
          ]
        }
      ]
    },
    {
      "cell_type": "markdown",
      "source": [
        "To represent color images, the red, green and blue channels (RGB) must be specified for each pixel, and so the pixel value is actually a vector of three numbers ranging from 0 to 255.\n",
        "\n",
        "One common preprocessing step in machine learning is to center and standardize  dataset, meaning that substracting the mean of the whole numpy array from each example, and then divide each example by the standard deviation of the whole numpy array. But for picture datasets, it is simpler and more convenient and works almost as well to just divide every row of the dataset by 255 (the maximum value of a pixel channel).\n"
      ],
      "metadata": {
        "id": "OmJZLiU1pOhh"
      }
    },
    {
      "cell_type": "code",
      "source": [
        "# Standardize the Datasets\n",
        "train_set_x = train_set_x_flatten / 255.\n",
        "test_set_x = test_set_x_flatten / 255."
      ],
      "metadata": {
        "id": "aq5c6tuZotKW"
      },
      "execution_count": null,
      "outputs": []
    },
    {
      "cell_type": "markdown",
      "source": [
        "**It's time to design a simple algorithm to distinguish cat images from non-cat images.**\n",
        "\n",
        "we will build a Logistic Regression, using a Neural Network mindset. \n",
        "\n",
        "\n",
        "**Mathematical expression of the algorithm:**\n",
        "\n",
        "For one example $x^{(i)}$:\n",
        "$$z^{(i)} = w^T x^{(i)} + b $$\n",
        "$$\\hat{y}^{(i)} = a^{(i)} = sigmoid(z^{(i)})$$ \n",
        "$$ \\mathcal{L}(a^{(i)}, y^{(i)}) =  - y^{(i)}  \\log(a^{(i)}) - (1-y^{(i)} )  \\log(1-a^{(i)})$$\n",
        "\n",
        "The cost is then computed by summing over all training examples:\n",
        "$$ J = \\frac{1}{m} \\sum_{i=1}^m \\mathcal{L}(a^{(i)}, y^{(i)})$$"
      ],
      "metadata": {
        "id": "2Tr-1KYnrzK0"
      }
    },
    {
      "cell_type": "markdown",
      "source": [
        "As we need to compute $sigmoid(z) = \\frac{1}{1 + e^{-z}}$ for $z = w^T x + b$ for making predictions."
      ],
      "metadata": {
        "id": "uSziJ3b4whrZ"
      }
    },
    {
      "cell_type": "code",
      "source": [
        "# Defining some helper functions\n",
        "\n",
        "# sigmoid function\n",
        "def sigmoid(z):\n",
        "  s = 1/(1+np.exp(-z))\n",
        "  return s\n",
        "\n",
        "\n",
        "# Initializing with zeros\n",
        "def initialize_with_zeros(x):\n",
        "  w = np.zeros((x, 1))\n",
        "  b = 0\n",
        "  return w, b"
      ],
      "metadata": {
        "id": "9MhWIKEisNmq"
      },
      "execution_count": null,
      "outputs": []
    },
    {
      "cell_type": "markdown",
      "source": [
        "For Forward Propagation:\n",
        "- we get X\n",
        "- we compute $A = \\sigma(w^T X + b) = (a^{(1)}, a^{(2)}, ..., a^{(m-1)}, a^{(m)})$\n",
        "- we calculate the cost function: $J = -\\frac{1}{m}\\sum_{i=1}^{m}(y^{(i)}\\log(a^{(i)})+(1-y^{(i)})\\log(1-a^{(i)}))$\n",
        "\n",
        "Here are the two formulas we will  use: \n",
        "\n",
        "$$ \\frac{\\partial J}{\\partial w} = \\frac{1}{m}X(A-Y)^T$$\n",
        "$$ \\frac{\\partial J}{\\partial b} = \\frac{1}{m} \\sum_{i=1}^m (a^{(i)}-y^{(i)})$$"
      ],
      "metadata": {
        "id": "OR0AzQT3xI3V"
      }
    },
    {
      "cell_type": "code",
      "source": [
        "# Implementing a function propagate() that computes the cost function and its gradient\n",
        "\n",
        "def propagate(w, b, X, Y):\n",
        "  m = X.shape[1]\n",
        "\n",
        "  # FORWARD PROPAGATION (FROM X TO COST)\n",
        "  A = sigmoid(np.dot(w.T, X) + b)  # compute activation\n",
        "  cost = (- 1 / m) * np.sum(Y * np.log(A) + (1 - Y) * (np.log(1 - A)))  # compute cost\n",
        "\n",
        "  # BACKWARD PROPAGATION (TO FIND GRAD)\n",
        "  dw = (1 / m) * np.dot(X, (A - Y).T)\n",
        "  db = (1 / m) * np.sum(A - Y)\n",
        "\n",
        "  cost = np.squeeze(np.array(cost))\n",
        "\n",
        "    \n",
        "  grads = {\"dw\": dw,\n",
        "           \"db\": db}\n",
        "    \n",
        "  return grads, cost"
      ],
      "metadata": {
        "id": "UGkSIIzItsdC"
      },
      "execution_count": null,
      "outputs": []
    },
    {
      "cell_type": "markdown",
      "source": [
        "Now the goal is to learn  𝑤  and  𝑏  by minimizing the cost function  𝐽 . For a parameter  𝜃 , the update rule is  𝜃:=𝜃−𝛼 𝑑𝜃 , where  𝛼  is the learning rate."
      ],
      "metadata": {
        "id": "MRaXQDClzCYJ"
      }
    },
    {
      "cell_type": "code",
      "source": [
        "# Optimizing w and b\n",
        "import copy\n",
        "def optimize(w, b, X, Y, num_iterations, learning_rate, print_cost):\n",
        "  \n",
        "  w = copy.deepcopy(w)\n",
        "  b = copy.deepcopy(b)\n",
        "    \n",
        "  costs = []\n",
        "\n",
        "  for i in range(num_iterations):\n",
        "    \n",
        "    grads, cost = propagate(w, b, X, Y)\n",
        "\n",
        "    # Retrieve derivatives from grads\n",
        "    dw = grads[\"dw\"]\n",
        "    db = grads[\"db\"]\n",
        "\n",
        "    # update rule\n",
        "    w = w - learning_rate * dw  \n",
        "    b = b - learning_rate * db\n",
        "\n",
        "    # Record the costs\n",
        "    if i % 100 == 0:     \n",
        "      costs.append(cost)\n",
        "        \n",
        "      # Print the cost every 100 training iterations\n",
        "      if print_cost==True:\n",
        "        print(f\"Cost after iteration {i}: {cost}\")\n",
        "\n",
        "  params = {\"w\": w,\n",
        "            \"b\": b}\n",
        "    \n",
        "  grads = {\"dw\": dw,\n",
        "           \"db\": db}\n",
        "    \n",
        "  return params, grads, costs"
      ],
      "metadata": {
        "id": "wbrI8TavzKVm"
      },
      "execution_count": null,
      "outputs": []
    },
    {
      "cell_type": "markdown",
      "source": [
        "There are two steps to compute predictions:\n",
        "\n",
        "1. Calculate $\\hat{Y} = A = \\sigma(w^T X + b)$\n",
        "\n",
        "2. Convert the entries  into 0 (if activation <= 0.5) or 1 (if activation > 0.5), stores the predictions in a vector `Y_prediction`."
      ],
      "metadata": {
        "id": "fx9FOSNV16PD"
      }
    },
    {
      "cell_type": "code",
      "source": [
        "# predicting the labels for a dataset X.\n",
        "def predict(w, b, X):\n",
        "\n",
        "  m = X.shape[1]\n",
        "  Y_prediction = np.zeros((1, m))\n",
        "  w = w.reshape(X.shape[0], 1)\n",
        "\n",
        "  # Computing vector \"A\"for predicting the probabilities of a cat being present in the picture\n",
        "  A = sigmoid(np.dot(w.T, X) + b)\n",
        "\n",
        "  for i in range(A.shape[1]):\n",
        "    Y_prediction[0, i] = 1 if A[0, i] > 0.5 else 0\n",
        "\n",
        "  return Y_prediction"
      ],
      "metadata": {
        "id": "_iRPw4pE2Z1A"
      },
      "execution_count": null,
      "outputs": []
    },
    {
      "cell_type": "code",
      "source": [
        "# Defining the model\n",
        "\n",
        "def model(X_train, Y_train, X_test, Y_test, num_iterations, learning_rate, print_cost):\n",
        "  w, b = initialize_with_zeros(X_train.shape[0])\n",
        "    \n",
        "  parameters, grads, costs = optimize(w, b, X_train, Y_train, num_iterations, learning_rate, print_cost)\n",
        "    \n",
        "  w = parameters[\"w\"]\n",
        "  b = parameters[\"b\"]\n",
        "    \n",
        "  Y_prediction_test = predict(w, b, X_test)\n",
        "  Y_prediction_train = predict(w, b, X_train)\n",
        "\n",
        "\n",
        "  # Print train/test Errors\n",
        "  if print_cost:\n",
        "    print(f\"Train accuracy: {round((100 - np.mean(np.abs(Y_prediction_train - Y_train)) * 100), ndigits=2)}%\")\n",
        "    print(f\"Test accuracy: {round((100 - np.mean(np.abs(Y_prediction_test - Y_test)) * 100), ndigits=2)} %\")\n",
        "\n",
        "  d = {\"costs\": costs,\n",
        "       \"Y_prediction_test\": Y_prediction_test, \n",
        "       \"Y_prediction_train\" : Y_prediction_train, \n",
        "       \"w\" : w, \n",
        "       \"b\" : b,\n",
        "       \"learning_rate\" : learning_rate,\n",
        "       \"num_iterations\": num_iterations}\n",
        "    \n",
        "  return d\n"
      ],
      "metadata": {
        "id": "mNHbYlQJ39qe"
      },
      "execution_count": null,
      "outputs": []
    },
    {
      "cell_type": "code",
      "source": [
        "logistic_regression_model = model(train_set_x, train_set_y, test_set_x, test_set_y, num_iterations=1500, learning_rate=0.005, print_cost=True)"
      ],
      "metadata": {
        "colab": {
          "base_uri": "https://localhost:8080/"
        },
        "id": "SUPzeoR_5SUY",
        "outputId": "1ef0dc56-d4ed-4fa8-86a0-5f36ee6d3dba"
      },
      "execution_count": null,
      "outputs": [
        {
          "output_type": "stream",
          "name": "stdout",
          "text": [
            "Cost after iteration 0: 0.6931471805599453\n",
            "Cost after iteration 100: 0.5845083636993086\n",
            "Cost after iteration 200: 0.46694904094655476\n",
            "Cost after iteration 300: 0.37600686694802077\n",
            "Cost after iteration 400: 0.3314632893282512\n",
            "Cost after iteration 500: 0.30327306747438293\n",
            "Cost after iteration 600: 0.27987958658260487\n",
            "Cost after iteration 700: 0.26004213692587574\n",
            "Cost after iteration 800: 0.2429406846779662\n",
            "Cost after iteration 900: 0.22800422256726063\n",
            "Cost after iteration 1000: 0.21481951378449635\n",
            "Cost after iteration 1100: 0.20307819060644985\n",
            "Cost after iteration 1200: 0.19254427716706862\n",
            "Cost after iteration 1300: 0.18303333796883503\n",
            "Cost after iteration 1400: 0.17439859438448874\n",
            "Train accuracy: 97.61%\n",
            "Test accuracy: 70.0 %\n"
          ]
        }
      ]
    },
    {
      "cell_type": "markdown",
      "source": [
        "Training accuracy is close to 100%. This is a good sanity check: The model is working and has high enough capacity to fit the training data. Test accuracy is 70%. It is actually not bad for this simple model, given the small dataset we used and that logistic regression is a linear classifier.\n",
        "\n",
        "Also, you see that the model is clearly overfitting the training data. We can reduce overfitting by using regularization."
      ],
      "metadata": {
        "id": "_ZdwFcqk57kw"
      }
    },
    {
      "cell_type": "code",
      "source": [
        "# Plot learning curve (with costs)\n",
        "costs = np.squeeze(logistic_regression_model[\"costs\"])\n",
        "plt.plot(costs)\n",
        "plt.xlabel(\"Iterations per hundred\")\n",
        "plt.ylabel(\"Cost\")\n",
        "plt.title(f\"Learning rate = {logistic_regression_model['learning_rate']}\")\n",
        "plt.show()"
      ],
      "metadata": {
        "colab": {
          "base_uri": "https://localhost:8080/",
          "height": 295
        },
        "id": "0F49-pL46T7J",
        "outputId": "afabb6b2-e610-4601-c34d-23cea15e8e86"
      },
      "execution_count": null,
      "outputs": [
        {
          "output_type": "display_data",
          "data": {
            "image/png": "[encoded data removed]",
            "text/plain": [
              "<Figure size 432x288 with 1 Axes>"
            ]
          },
          "metadata": {
            "needs_background": "light"
          }
        }
      ]
    },
    {
      "cell_type": "code",
      "source": [
        "learning_rates = [0.01, 0.001, 0.0001]\n",
        "models = {}\n",
        "\n",
        "for lr in learning_rates:\n",
        "    print (f\"Training a model with learning rate: {lr}\")\n",
        "    models[str(lr)] = model(train_set_x, train_set_y, test_set_x, test_set_y, num_iterations=1500, learning_rate=lr, print_cost=True)\n",
        "    print (f\"\\n -------------------------------------------------------\\n\")\n",
        "\n",
        "for lr in learning_rates:\n",
        "    plt.plot(np.squeeze(models[str(lr)][\"costs\"]), label=str(models[str(lr)][\"learning_rate\"]))\n",
        "\n",
        "plt.xlabel(\"Iterations per hundred\")\n",
        "plt.ylabel(\"Cost\")\n",
        "\n",
        "legend = plt.legend(loc=\"upper right\", shadow=False)\n",
        "# frame = legend.get_frame()\n",
        "# frame.set_facecolor('0.90')\n",
        "plt.show()"
      ],
      "metadata": {
        "colab": {
          "base_uri": "https://localhost:8080/",
          "height": 1000
        },
        "id": "IV7P6iVhPvHE",
        "outputId": "e1bd9c4c-61f2-4f3f-d941-53670cfc8d7e"
      },
      "execution_count": null,
      "outputs": [
        {
          "output_type": "stream",
          "name": "stdout",
          "text": [
            "Training a model with learning rate: 0.01\n",
            "Cost after iteration 0: 0.6931471805599453\n",
            "Cost after iteration 100: 0.8239208681633668\n",
            "Cost after iteration 200: 0.4189444730732313\n",
            "Cost after iteration 300: 0.6173497040862219\n",
            "Cost after iteration 400: 0.5221157718693101\n",
            "Cost after iteration 500: 0.38770874886462703\n",
            "Cost after iteration 600: 0.23625445675942175\n",
            "Cost after iteration 700: 0.15422213306565732\n",
            "Cost after iteration 800: 0.13532782831487397\n",
            "Cost after iteration 900: 0.12497148000327057\n",
            "Cost after iteration 1000: 0.1164783312573286\n",
            "Cost after iteration 1100: 0.10919251128239282\n",
            "Cost after iteration 1200: 0.10280446418272415\n",
            "Cost after iteration 1300: 0.09712981008013837\n",
            "Cost after iteration 1400: 0.09204326923671569\n",
            "Train accuracy: 99.52%\n",
            "Test accuracy: 68.0 %\n",
            "\n",
            " -------------------------------------------------------\n",
            "\n",
            "Training a model with learning rate: 0.001\n",
            "Cost after iteration 0: 0.6931471805599453\n",
            "Cost after iteration 100: 0.5912894260003538\n",
            "Cost after iteration 200: 0.5557961107127088\n",
            "Cost after iteration 300: 0.5289765131562365\n",
            "Cost after iteration 400: 0.5068812917435516\n",
            "Cost after iteration 500: 0.4878798632171657\n",
            "Cost after iteration 600: 0.47110827803124367\n",
            "Cost after iteration 700: 0.4560458096982851\n",
            "Cost after iteration 800: 0.4423502279336529\n",
            "Cost after iteration 900: 0.4297817153507784\n",
            "Cost after iteration 1000: 0.4181638209364327\n",
            "Cost after iteration 1100: 0.40736174995821917\n",
            "Cost after iteration 1200: 0.3972694687269798\n",
            "Cost after iteration 1300: 0.3878016072295409\n",
            "Cost after iteration 1400: 0.3788881303593958\n",
            "Train accuracy: 89.0%\n",
            "Test accuracy: 64.0 %\n",
            "\n",
            " -------------------------------------------------------\n",
            "\n",
            "Training a model with learning rate: 0.0001\n",
            "Cost after iteration 0: 0.6931471805599453\n",
            "Cost after iteration 100: 0.6436767556935212\n",
            "Cost after iteration 200: 0.6357371814059836\n",
            "Cost after iteration 300: 0.6285720456492652\n",
            "Cost after iteration 400: 0.6220395010251997\n",
            "Cost after iteration 500: 0.6160293786905876\n",
            "Cost after iteration 600: 0.6104550830063585\n",
            "Cost after iteration 700: 0.6052481726085717\n",
            "Cost after iteration 800: 0.6003541917337943\n",
            "Cost after iteration 900: 0.5957294843812225\n",
            "Cost after iteration 1000: 0.5913387663913114\n",
            "Cost after iteration 1100: 0.5871532754554301\n",
            "Cost after iteration 1200: 0.5831493591357293\n",
            "Cost after iteration 1300: 0.5793073939793076\n",
            "Cost after iteration 1400: 0.5756109548449317\n",
            "Train accuracy: 68.42%\n",
            "Test accuracy: 36.0 %\n",
            "\n",
            " -------------------------------------------------------\n",
            "\n"
          ]
        },
        {
          "output_type": "display_data",
          "data": {
            "image/png": "[encoded data removed]",
            "text/plain": [
              "<Figure size 432x288 with 1 Axes>"
            ]
          },
          "metadata": {
            "needs_background": "light"
          }
        }
      ]
    }
  ]
}